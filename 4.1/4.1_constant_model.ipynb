{
 "cells": [
  {
   "cell_type": "markdown",
   "id": "1dde6bfb-b42b-4296-8fee-f607e7b84fa8",
   "metadata": {},
   "source": [
    "### The Constant Model\n",
    "The bus is supposed to arrive every 10 minutes, but Jake notices that he sometimes waits a long time for the bus. He wants to know how late the bus usually is. "
   ]
  },
  {
   "cell_type": "code",
   "execution_count": 1,
   "id": "b53b2956-8469-4c65-813e-40d1b4bd8cbb",
   "metadata": {},
   "outputs": [],
   "source": [
    "import pandas as pd\n",
    "import numpy as np"
   ]
  },
  {
   "cell_type": "code",
   "execution_count": null,
   "id": "7af03640-878c-4658-b661-e495c0ffd0e0",
   "metadata": {},
   "outputs": [],
   "source": []
  }
 ],
 "metadata": {
  "kernelspec": {
   "display_name": "Python 3 (ipykernel)",
   "language": "python",
   "name": "python3"
  },
  "language_info": {
   "codemirror_mode": {
    "name": "ipython",
    "version": 3
   },
   "file_extension": ".py",
   "mimetype": "text/x-python",
   "name": "python",
   "nbconvert_exporter": "python",
   "pygments_lexer": "ipython3",
   "version": "3.9.6"
  }
 },
 "nbformat": 4,
 "nbformat_minor": 5
}
