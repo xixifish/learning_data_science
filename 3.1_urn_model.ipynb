{
 "cells": [
  {
   "metadata": {},
   "cell_type": "markdown",
   "source": [
    "## The Urn Model\n",
    "#### First need to make a few decisions before set up an urn model:\n",
    "* The number of marbles in the urn\n",
    "* The color (or label) on each marble\n",
    "* The number of marbles to draw from the urn"
   ],
   "id": "ecd22a2ff3518c4f"
  },
  {
   "cell_type": "code",
   "id": "initial_id",
   "metadata": {
    "collapsed": true,
    "ExecuteTime": {
     "end_time": "2025-05-26T13:41:41.734548Z",
     "start_time": "2025-05-26T13:41:41.337428Z"
    }
   },
   "source": "import numpy as np",
   "outputs": [],
   "execution_count": 2
  },
  {
   "metadata": {
    "ExecuteTime": {
     "end_time": "2025-05-26T13:44:03.675766Z",
     "start_time": "2025-05-26T13:44:02.893721Z"
    }
   },
   "cell_type": "code",
   "source": [
    "# In the urn, there are 3 black marbles and 2 white ones.\n",
    "urn = [\"b\", \"b\", \"b\", \"w\", \"w\"]\n",
    "print(\"Sample 1:\", np.random.choice(urn, size=2, replace=False))\n",
    "print(\"Sample 2:\", np.random.choice(urn, size=2, replace=False))"
   ],
   "id": "34197660d4f590a3",
   "outputs": [
    {
     "name": "stdout",
     "output_type": "stream",
     "text": [
      "Sample 1: ['w' 'w']\n",
      "Sample 2: ['b' 'w']\n"
     ]
    }
   ],
   "execution_count": 4
  },
  {
   "metadata": {
    "ExecuteTime": {
     "end_time": "2025-05-26T13:47:13.904742Z",
     "start_time": "2025-05-26T13:47:13.833422Z"
    }
   },
   "cell_type": "code",
   "source": [
    "# Estimate the fraction of samples where both marbles that we draw match in color.\n",
    "n = 10_000\n",
    "samples = [np.random.choice(urn, size=2, replace=False) for _ in range(n)]\n",
    "is_matching = [marble1 == marble2 for marble1, marble2 in samples]\n",
    "print(f\"Proportion of samples with matching marbles: {np.mean(is_matching)}\")"
   ],
   "id": "ef2d469ed444e721",
   "outputs": [
    {
     "name": "stdout",
     "output_type": "stream",
     "text": [
      "Proportion of samples with matching marbles: 0.394\n"
     ]
    }
   ],
   "execution_count": 6
  },
  {
   "metadata": {},
   "cell_type": "markdown",
   "source": [
    "#### Simple random sample\n",
    "The urn model, where we do replace the marbles between draws, is a common selection method called the **simple random sample**. Every sample has the same chance of being selected."
   ],
   "id": "c54f7e5def15d52f"
  },
  {
   "metadata": {
    "ExecuteTime": {
     "end_time": "2025-05-26T14:20:51.047989Z",
     "start_time": "2025-05-26T14:20:51.045472Z"
    }
   },
   "cell_type": "code",
   "source": "from itertools import combinations",
   "id": "4c3460082adcfc93",
   "outputs": [],
   "execution_count": 7
  },
  {
   "metadata": {
    "ExecuteTime": {
     "end_time": "2025-05-26T14:22:13.191961Z",
     "start_time": "2025-05-26T14:22:13.188788Z"
    }
   },
   "cell_type": "code",
   "source": [
    "all_samples = [\"\".join(sample) for sample in combinations(\"ABCDEFG\", 3)]\n",
    "print(all_samples)\n",
    "print(\"Number of Samples:\", len(all_samples))"
   ],
   "id": "9fd4488ed5c9d3e4",
   "outputs": [
    {
     "name": "stdout",
     "output_type": "stream",
     "text": [
      "['ABC', 'ABD', 'ABE', 'ABF', 'ABG', 'ACD', 'ACE', 'ACF', 'ACG', 'ADE', 'ADF', 'ADG', 'AEF', 'AEG', 'AFG', 'BCD', 'BCE', 'BCF', 'BCG', 'BDE', 'BDF', 'BDG', 'BEF', 'BEG', 'BFG', 'CDE', 'CDF', 'CDG', 'CEF', 'CEG', 'CFG', 'DEF', 'DEG', 'DFG', 'EFG']\n",
      "Number of Samples: 35\n"
     ]
    }
   ],
   "execution_count": 8
  },
  {
   "metadata": {},
   "cell_type": "markdown",
   "source": [
    "The chance of sample contains the marbles labeled A, B, and C in any order:\n",
    "P(ABC) = 1/35"
   ],
   "id": "6761d40ee783de22"
  },
  {
   "metadata": {
    "ExecuteTime": {
     "end_time": "2025-05-26T14:23:37.505396Z",
     "start_time": "2025-05-26T14:23:37.502619Z"
    }
   },
   "cell_type": "code",
   "source": "from itertools import permutations",
   "id": "ab9361e576aeec47",
   "outputs": [],
   "execution_count": 9
  },
  {
   "metadata": {
    "ExecuteTime": {
     "end_time": "2025-05-26T14:25:07.311907Z",
     "start_time": "2025-05-26T14:25:07.308917Z"
    }
   },
   "cell_type": "code",
   "source": "print([\"\".join(sample) for sample in permutations(\"ABC\")])",
   "id": "9a5ed764b6e762f3",
   "outputs": [
    {
     "name": "stdout",
     "output_type": "stream",
     "text": [
      "['ABC', 'ACB', 'BAC', 'BCA', 'CAB', 'CBA']\n"
     ]
    }
   ],
   "execution_count": 10
  },
  {
   "metadata": {},
   "cell_type": "markdown",
   "source": [
    "#### Stratified sampling\n",
    "This is like having a separate urn for each stratum and drawing marbles from each urn, independently. The strata do not have to be the same size, and we need not take the same number of marbles from each.\n",
    "\n",
    "#### Cluster sampling\n",
    "We can think of this as a simple random sample from one urn that contains large marbles that are themselves containers of small marbles. (The large marbles need not have the same number of marbles in them.) When opened, the sample of large marbles turns into the sample of small marbles. (Clusters tend to be smaller than strata.)"
   ],
   "id": "2a17d92dd1721fb4"
  },
  {
   "metadata": {},
   "cell_type": "markdown",
   "source": [
    "For example, organize your marbles, labeled A-G, into three clusters (A, B), (C, D), and (E, F, G). Then, a cluster sample of size one has an equal chance of drawing any of the three clusters.\n",
    "\n",
    "In this scenario, each marble has the same chance of being in the sample:\n",
    "\n",
    "P(A in sample) = P(cluster(A, B) chosen) = 1/3\n",
    "\n",
    "...\n",
    "\n",
    "P(G in sample) = P(cluster(E, F, G) chosen) = 1/3"
   ],
   "id": "bfe5ea54614bf053"
  },
  {
   "metadata": {},
   "cell_type": "markdown",
   "source": [
    "#### Example\n",
    "We have 7 fuel tanks as a sample, and 4 of them fail the pressure test. Our test target is to find the failure rate."
   ],
   "id": "853a67deb79621b4"
  },
  {
   "metadata": {
    "ExecuteTime": {
     "end_time": "2025-05-26T14:37:43.058773Z",
     "start_time": "2025-05-26T14:37:43.056201Z"
    }
   },
   "cell_type": "code",
   "source": [
    "# 1 for fail and 0 for pass\n",
    "urn = [1, 1, 0, 1, 0, 1, 0]\n",
    "sample = np.random.choice(urn, size=3, replace=False)\n",
    "print(f\"Sample: {sample}\")\n",
    "print(f\"Prop Failures: {sample.mean()}\")"
   ],
   "id": "41b46d33290cbae8",
   "outputs": [
    {
     "name": "stdout",
     "output_type": "stream",
     "text": [
      "Sample: [1 0 0]\n",
      "Prop Failures: 0.3333333333333333\n"
     ]
    }
   ],
   "execution_count": 15
  },
  {
   "metadata": {},
   "cell_type": "markdown",
   "source": "In a simulation study, we repeat the sampling process thousands of times to get thousands of proportions, and then we estimate the sampling distribution of the proportion from what we get in our simulation.",
   "id": "352412655246d61b"
  },
  {
   "metadata": {
    "ExecuteTime": {
     "end_time": "2025-05-26T14:40:36.711642Z",
     "start_time": "2025-05-26T14:40:36.632381Z"
    }
   },
   "cell_type": "code",
   "source": [
    "samples = [np.random.choice(urn, size=3, replace=False) for _ in range(10_000)]\n",
    "prop_failures = [s.mean() for s in samples]"
   ],
   "id": "f0972e36a0486259",
   "outputs": [],
   "execution_count": 18
  },
  {
   "metadata": {
    "ExecuteTime": {
     "end_time": "2025-05-26T14:40:58.375949Z",
     "start_time": "2025-05-26T14:40:53.694176Z"
    }
   },
   "cell_type": "code",
   "source": "import pandas as pd",
   "id": "f2041c28a0e2e763",
   "outputs": [],
   "execution_count": 20
  },
  {
   "metadata": {
    "ExecuteTime": {
     "end_time": "2025-05-26T14:44:17.377019Z",
     "start_time": "2025-05-26T14:44:17.372714Z"
    }
   },
   "cell_type": "code",
   "source": [
    "unique_els, counts_els = np.unique(prop_failures, return_counts=True)\n",
    "pd.DataFrame({\n",
    "    \"Proportion of failures\": unique_els,\n",
    "    \"Fraction of samples\": counts_els / 10_000,\n",
    "})\n"
   ],
   "id": "e070dd339b4bb6ef",
   "outputs": [
    {
     "data": {
      "text/plain": [
       "   Proportion of failures  Fraction of samples\n",
       "0                0.000000               0.0267\n",
       "1                0.333333               0.3474\n",
       "2                0.666667               0.5106\n",
       "3                1.000000               0.1153"
      ],
      "text/html": [
       "<div>\n",
       "<style scoped>\n",
       "    .dataframe tbody tr th:only-of-type {\n",
       "        vertical-align: middle;\n",
       "    }\n",
       "\n",
       "    .dataframe tbody tr th {\n",
       "        vertical-align: top;\n",
       "    }\n",
       "\n",
       "    .dataframe thead th {\n",
       "        text-align: right;\n",
       "    }\n",
       "</style>\n",
       "<table border=\"1\" class=\"dataframe\">\n",
       "  <thead>\n",
       "    <tr style=\"text-align: right;\">\n",
       "      <th></th>\n",
       "      <th>Proportion of failures</th>\n",
       "      <th>Fraction of samples</th>\n",
       "    </tr>\n",
       "  </thead>\n",
       "  <tbody>\n",
       "    <tr>\n",
       "      <th>0</th>\n",
       "      <td>0.000000</td>\n",
       "      <td>0.0267</td>\n",
       "    </tr>\n",
       "    <tr>\n",
       "      <th>1</th>\n",
       "      <td>0.333333</td>\n",
       "      <td>0.3474</td>\n",
       "    </tr>\n",
       "    <tr>\n",
       "      <th>2</th>\n",
       "      <td>0.666667</td>\n",
       "      <td>0.5106</td>\n",
       "    </tr>\n",
       "    <tr>\n",
       "      <th>3</th>\n",
       "      <td>1.000000</td>\n",
       "      <td>0.1153</td>\n",
       "    </tr>\n",
       "  </tbody>\n",
       "</table>\n",
       "</div>"
      ]
     },
     "execution_count": 23,
     "metadata": {},
     "output_type": "execute_result"
    }
   ],
   "execution_count": 23
  },
  {
   "metadata": {
    "ExecuteTime": {
     "end_time": "2025-05-26T14:49:05.128527Z",
     "start_time": "2025-05-26T14:49:05.121827Z"
    }
   },
   "cell_type": "code",
   "source": [
    "# dict(zip(unique_els, counts_els / 10_000))\n",
    "# pd.DataFrame([dict(zip(unique_els, counts_els / 10_000))]).T\n",
    "pd.DataFrame(list(dict(zip(unique_els, counts_els / 10_000)).items()),\n",
    "             columns=[\"Proportion of failures\", \"Fraction of samples\"])"
   ],
   "id": "fe667c11be845689",
   "outputs": [
    {
     "data": {
      "text/plain": [
       "   Proportion of failures  Fraction of samples\n",
       "0                0.000000               0.0267\n",
       "1                0.333333               0.3474\n",
       "2                0.666667               0.5106\n",
       "3                1.000000               0.1153"
      ],
      "text/html": [
       "<div>\n",
       "<style scoped>\n",
       "    .dataframe tbody tr th:only-of-type {\n",
       "        vertical-align: middle;\n",
       "    }\n",
       "\n",
       "    .dataframe tbody tr th {\n",
       "        vertical-align: top;\n",
       "    }\n",
       "\n",
       "    .dataframe thead th {\n",
       "        text-align: right;\n",
       "    }\n",
       "</style>\n",
       "<table border=\"1\" class=\"dataframe\">\n",
       "  <thead>\n",
       "    <tr style=\"text-align: right;\">\n",
       "      <th></th>\n",
       "      <th>Proportion of failures</th>\n",
       "      <th>Fraction of samples</th>\n",
       "    </tr>\n",
       "  </thead>\n",
       "  <tbody>\n",
       "    <tr>\n",
       "      <th>0</th>\n",
       "      <td>0.000000</td>\n",
       "      <td>0.0267</td>\n",
       "    </tr>\n",
       "    <tr>\n",
       "      <th>1</th>\n",
       "      <td>0.333333</td>\n",
       "      <td>0.3474</td>\n",
       "    </tr>\n",
       "    <tr>\n",
       "      <th>2</th>\n",
       "      <td>0.666667</td>\n",
       "      <td>0.5106</td>\n",
       "    </tr>\n",
       "    <tr>\n",
       "      <th>3</th>\n",
       "      <td>1.000000</td>\n",
       "      <td>0.1153</td>\n",
       "    </tr>\n",
       "  </tbody>\n",
       "</table>\n",
       "</div>"
      ]
     },
     "execution_count": 26,
     "metadata": {},
     "output_type": "execute_result"
    }
   ],
   "execution_count": 26
  },
  {
   "metadata": {},
   "cell_type": "markdown",
   "source": [
    "#### Hypergeometric distribution\n",
    "Instead of using random.choice, we can use np.random.hypergeometric to simulate drawing marbles from the urn and counting the number of failures."
   ],
   "id": "2f6b71d1dcab793a"
  },
  {
   "metadata": {
    "ExecuteTime": {
     "end_time": "2025-05-26T14:53:27.128194Z",
     "start_time": "2025-05-26T14:53:27.126063Z"
    }
   },
   "cell_type": "code",
   "source": [
    "simulations_fast = np.random.hypergeometric(\n",
    "    ngood=4, nbad=3, nsample=3, size=10_000\n",
    ")\n",
    "print(simulations_fast)"
   ],
   "id": "e9c494e1ed089cba",
   "outputs": [
    {
     "name": "stdout",
     "output_type": "stream",
     "text": [
      "[1 2 2 ... 1 2 1]\n"
     ]
    }
   ],
   "execution_count": 28
  },
  {
   "metadata": {
    "ExecuteTime": {
     "end_time": "2025-05-26T14:54:30.880942Z",
     "start_time": "2025-05-26T14:54:30.875321Z"
    }
   },
   "cell_type": "code",
   "source": [
    "unique_els, counts_els = np.unique(simulations_fast, return_counts=True)\n",
    "pd.DataFrame({\n",
    "    \"Number of failures\": unique_els,\n",
    "    \"Fraction of samples\": counts_els / 10_000,\n",
    "})"
   ],
   "id": "d1bd9520312c8ea7",
   "outputs": [
    {
     "data": {
      "text/plain": [
       "   Number of failures  Fraction of samples\n",
       "0                   0               0.0297\n",
       "1                   1               0.3374\n",
       "2                   2               0.5171\n",
       "3                   3               0.1158"
      ],
      "text/html": [
       "<div>\n",
       "<style scoped>\n",
       "    .dataframe tbody tr th:only-of-type {\n",
       "        vertical-align: middle;\n",
       "    }\n",
       "\n",
       "    .dataframe tbody tr th {\n",
       "        vertical-align: top;\n",
       "    }\n",
       "\n",
       "    .dataframe thead th {\n",
       "        text-align: right;\n",
       "    }\n",
       "</style>\n",
       "<table border=\"1\" class=\"dataframe\">\n",
       "  <thead>\n",
       "    <tr style=\"text-align: right;\">\n",
       "      <th></th>\n",
       "      <th>Number of failures</th>\n",
       "      <th>Fraction of samples</th>\n",
       "    </tr>\n",
       "  </thead>\n",
       "  <tbody>\n",
       "    <tr>\n",
       "      <th>0</th>\n",
       "      <td>0</td>\n",
       "      <td>0.0297</td>\n",
       "    </tr>\n",
       "    <tr>\n",
       "      <th>1</th>\n",
       "      <td>1</td>\n",
       "      <td>0.3374</td>\n",
       "    </tr>\n",
       "    <tr>\n",
       "      <th>2</th>\n",
       "      <td>2</td>\n",
       "      <td>0.5171</td>\n",
       "    </tr>\n",
       "    <tr>\n",
       "      <th>3</th>\n",
       "      <td>3</td>\n",
       "      <td>0.1158</td>\n",
       "    </tr>\n",
       "  </tbody>\n",
       "</table>\n",
       "</div>"
      ]
     },
     "execution_count": 29,
     "metadata": {},
     "output_type": "execute_result"
    }
   ],
   "execution_count": 29
  },
  {
   "metadata": {
    "ExecuteTime": {
     "end_time": "2025-05-26T14:55:39.519245Z",
     "start_time": "2025-05-26T14:55:39.516481Z"
    }
   },
   "cell_type": "code",
   "source": "from scipy.stats import hypergeom",
   "id": "614974ede539d2f5",
   "outputs": [],
   "execution_count": 31
  },
  {
   "metadata": {
    "ExecuteTime": {
     "end_time": "2025-05-26T14:57:45.858673Z",
     "start_time": "2025-05-26T14:57:45.852087Z"
    }
   },
   "cell_type": "code",
   "source": [
    "num_failures = [0, 1, 2, 3]\n",
    "pd.DataFrame({\n",
    "    \"Number of failures\": num_failures,\n",
    "    # hypergeom.pmf: probability mass function\n",
    "    \"Fraction of samples\": hypergeom.pmf(num_failures, 7, 4, 3)\n",
    "})"
   ],
   "id": "5ec996e349215c7b",
   "outputs": [
    {
     "data": {
      "text/plain": [
       "   Number of failures  Fraction of samples\n",
       "0                   0             0.028571\n",
       "1                   1             0.342857\n",
       "2                   2             0.514286\n",
       "3                   3             0.114286"
      ],
      "text/html": [
       "<div>\n",
       "<style scoped>\n",
       "    .dataframe tbody tr th:only-of-type {\n",
       "        vertical-align: middle;\n",
       "    }\n",
       "\n",
       "    .dataframe tbody tr th {\n",
       "        vertical-align: top;\n",
       "    }\n",
       "\n",
       "    .dataframe thead th {\n",
       "        text-align: right;\n",
       "    }\n",
       "</style>\n",
       "<table border=\"1\" class=\"dataframe\">\n",
       "  <thead>\n",
       "    <tr style=\"text-align: right;\">\n",
       "      <th></th>\n",
       "      <th>Number of failures</th>\n",
       "      <th>Fraction of samples</th>\n",
       "    </tr>\n",
       "  </thead>\n",
       "  <tbody>\n",
       "    <tr>\n",
       "      <th>0</th>\n",
       "      <td>0</td>\n",
       "      <td>0.028571</td>\n",
       "    </tr>\n",
       "    <tr>\n",
       "      <th>1</th>\n",
       "      <td>1</td>\n",
       "      <td>0.342857</td>\n",
       "    </tr>\n",
       "    <tr>\n",
       "      <th>2</th>\n",
       "      <td>2</td>\n",
       "      <td>0.514286</td>\n",
       "    </tr>\n",
       "    <tr>\n",
       "      <th>3</th>\n",
       "      <td>3</td>\n",
       "      <td>0.114286</td>\n",
       "    </tr>\n",
       "  </tbody>\n",
       "</table>\n",
       "</div>"
      ]
     },
     "execution_count": 32,
     "metadata": {},
     "output_type": "execute_result"
    }
   ],
   "execution_count": 32
  },
  {
   "metadata": {},
   "cell_type": "markdown",
   "source": "__Drawing without replacement is the hypergeometric distribution and drawing with replacement is the binomial distribution.__",
   "id": "42cb77caf365ae05"
  },
  {
   "metadata": {},
   "cell_type": "code",
   "outputs": [],
   "execution_count": null,
   "source": "",
   "id": "9740749ae6502b09"
  }
 ],
 "metadata": {
  "kernelspec": {
   "display_name": "Python 3",
   "language": "python",
   "name": "python3"
  },
  "language_info": {
   "codemirror_mode": {
    "name": "ipython",
    "version": 2
   },
   "file_extension": ".py",
   "mimetype": "text/x-python",
   "name": "python",
   "nbconvert_exporter": "python",
   "pygments_lexer": "ipython2",
   "version": "2.7.6"
  }
 },
 "nbformat": 4,
 "nbformat_minor": 5
}
