{
 "cells": [
  {
   "cell_type": "markdown",
   "id": "bfe6e8b8-661c-4e34-8a8f-c058ab77ef43",
   "metadata": {},
   "source": [
    "## Measuring Air Quality\n",
    "We downloaded data from one sensor over a 24-hour period and selected three half-hour time intervals spread throughout the day where the readings were roughly constant over the 30-minute period. This gave us three sets of 15 two-minute averages, for a total of 45 measurements:"
   ]
  },
  {
   "cell_type": "code",
   "id": "2f845933-8416-44a0-a4d9-eddb6f372f51",
   "metadata": {
    "ExecuteTime": {
     "end_time": "2025-05-26T23:36:35.696290Z",
     "start_time": "2025-05-26T23:36:35.693855Z"
    }
   },
   "source": [
    "import pandas as pd\n",
    "import numpy as np"
   ],
   "outputs": [],
   "execution_count": 4
  },
  {
   "cell_type": "code",
   "id": "e2bbf318-f3c7-48e9-baf3-2bcbad1cbd0c",
   "metadata": {
    "ExecuteTime": {
     "end_time": "2025-05-26T23:36:36.452802Z",
     "start_time": "2025-05-26T23:36:36.446616Z"
    }
   },
   "source": [
    "# This is the original data from the sensor\n",
    "data = pd.read_csv(\"3.4/purple_air_2min_sample.csv\")\n",
    "data.head()"
   ],
   "outputs": [
    {
     "data": {
      "text/plain": [
       "   aq2.5                     time  hour  diffs   meds\n",
       "0   6.14  2022-04-01 00:01:10 UTC     0  0.765  5.375\n",
       "1   5.00  2022-04-01 00:03:10 UTC     0 -0.375  5.375\n",
       "2   5.29  2022-04-01 00:05:10 UTC     0 -0.085  5.375\n",
       "3   4.73  2022-04-01 00:07:10 UTC     0 -0.645  5.375\n",
       "4   4.31  2022-04-01 00:09:10 UTC     0 -1.065  5.375"
      ],
      "text/html": [
       "<div>\n",
       "<style scoped>\n",
       "    .dataframe tbody tr th:only-of-type {\n",
       "        vertical-align: middle;\n",
       "    }\n",
       "\n",
       "    .dataframe tbody tr th {\n",
       "        vertical-align: top;\n",
       "    }\n",
       "\n",
       "    .dataframe thead th {\n",
       "        text-align: right;\n",
       "    }\n",
       "</style>\n",
       "<table border=\"1\" class=\"dataframe\">\n",
       "  <thead>\n",
       "    <tr style=\"text-align: right;\">\n",
       "      <th></th>\n",
       "      <th>aq2.5</th>\n",
       "      <th>time</th>\n",
       "      <th>hour</th>\n",
       "      <th>diffs</th>\n",
       "      <th>meds</th>\n",
       "    </tr>\n",
       "  </thead>\n",
       "  <tbody>\n",
       "    <tr>\n",
       "      <th>0</th>\n",
       "      <td>6.14</td>\n",
       "      <td>2022-04-01 00:01:10 UTC</td>\n",
       "      <td>0</td>\n",
       "      <td>0.765</td>\n",
       "      <td>5.375</td>\n",
       "    </tr>\n",
       "    <tr>\n",
       "      <th>1</th>\n",
       "      <td>5.00</td>\n",
       "      <td>2022-04-01 00:03:10 UTC</td>\n",
       "      <td>0</td>\n",
       "      <td>-0.375</td>\n",
       "      <td>5.375</td>\n",
       "    </tr>\n",
       "    <tr>\n",
       "      <th>2</th>\n",
       "      <td>5.29</td>\n",
       "      <td>2022-04-01 00:05:10 UTC</td>\n",
       "      <td>0</td>\n",
       "      <td>-0.085</td>\n",
       "      <td>5.375</td>\n",
       "    </tr>\n",
       "    <tr>\n",
       "      <th>3</th>\n",
       "      <td>4.73</td>\n",
       "      <td>2022-04-01 00:07:10 UTC</td>\n",
       "      <td>0</td>\n",
       "      <td>-0.645</td>\n",
       "      <td>5.375</td>\n",
       "    </tr>\n",
       "    <tr>\n",
       "      <th>4</th>\n",
       "      <td>4.31</td>\n",
       "      <td>2022-04-01 00:09:10 UTC</td>\n",
       "      <td>0</td>\n",
       "      <td>-1.065</td>\n",
       "      <td>5.375</td>\n",
       "    </tr>\n",
       "  </tbody>\n",
       "</table>\n",
       "</div>"
      ]
     },
     "execution_count": 5,
     "metadata": {},
     "output_type": "execute_result"
    }
   ],
   "execution_count": 5
  },
  {
   "cell_type": "code",
   "id": "387703e5-f90d-4c91-a227-b383ae6e09b2",
   "metadata": {
    "ExecuteTime": {
     "end_time": "2025-05-26T23:36:42.976697Z",
     "start_time": "2025-05-26T23:36:42.973796Z"
    }
   },
   "source": [
    "# Data attributes:\n",
    "print(\"Dataset Overview:\")\n",
    "print(f\"Total rows: {len(data)}\")\n",
    "print(f\"Columns: {list(data.columns)}\")\n",
    "print(f\"Time range: {data['time'].iloc[0]} to {data['time'].iloc[-1]}\")"
   ],
   "outputs": [
    {
     "name": "stdout",
     "output_type": "stream",
     "text": [
      "Dataset Overview:\n",
      "Total rows: 150\n",
      "Columns: ['aq2.5', 'time', 'hour', 'diffs', 'meds']\n",
      "Time range: 2022-04-01 00:01:10 UTC to 2022-04-01 20:01:20 UTC\n"
     ]
    }
   ],
   "execution_count": 6
  },
  {
   "cell_type": "code",
   "id": "b9534e4a-2a64-4e3a-822b-fe68cd7650c1",
   "metadata": {
    "ExecuteTime": {
     "end_time": "2025-05-26T23:36:52.870719Z",
     "start_time": "2025-05-26T23:36:52.866623Z"
    }
   },
   "source": [
    "data['hour'].unique()"
   ],
   "outputs": [
    {
     "data": {
      "text/plain": [
       "array([ 0,  6, 11, 16, 19])"
      ]
     },
     "execution_count": 7,
     "metadata": {},
     "output_type": "execute_result"
    }
   ],
   "execution_count": 7
  },
  {
   "cell_type": "code",
   "id": "eb606010-56c0-4b46-bead-88c6f2763121",
   "metadata": {
    "ExecuteTime": {
     "end_time": "2025-05-26T23:36:53.771196Z",
     "start_time": "2025-05-26T23:36:53.767479Z"
    }
   },
   "source": [
    "data['meds'].unique()"
   ],
   "outputs": [
    {
     "data": {
      "text/plain": [
       "array([ 5.375, 10.545,  6.6  , 10.43 ,  8.555])"
      ]
     },
     "execution_count": 8,
     "metadata": {},
     "output_type": "execute_result"
    }
   ],
   "execution_count": 8
  },
  {
   "cell_type": "markdown",
   "id": "fda46fcc-b134-424c-b46b-50748dd3805d",
   "metadata": {},
   "source": [
    "The dataset contains 5 distinct time periods, each with its own median.\n",
    "#### How to select 45 records (3 periods x 15 measurements):\n",
    "1. Select periods where readings were \"roughly constant over 30 minutes\"\n",
    "2. Choose 3 half-hour intervals spread throughout the day\n",
    "3. Take 15 two-minute averages from each period (total 45 measurements)"
   ]
  },
  {
   "cell_type": "markdown",
   "id": "05ca0392-89a4-419f-9173-296643cf0304",
   "metadata": {},
   "source": "### STEP1: Analyse stability of each time period"
  },
  {
   "cell_type": "code",
   "id": "20560e1b-e224-43c8-b155-b6b3ff3ecc08",
   "metadata": {
    "ExecuteTime": {
     "end_time": "2025-05-26T23:37:11.665703Z",
     "start_time": "2025-05-26T23:37:11.663279Z"
    }
   },
   "source": [
    "# Calculate ONLY variance for each period (sufficient for ranking stability)\n",
    "period_stability = []"
   ],
   "outputs": [],
   "execution_count": 9
  },
  {
   "cell_type": "code",
   "id": "434e1702-30fb-4421-b070-883c8b5a8da3",
   "metadata": {
    "ExecuteTime": {
     "end_time": "2025-05-26T23:37:31.832783Z",
     "start_time": "2025-05-26T23:37:31.827870Z"
    }
   },
   "source": [
    "for meds_value in sorted(data['meds'].unique()):\n",
    "    period_data = data[data['meds'] == meds_value]\n",
    "    # Get the exact hour which all the records in this hour with same meds value\n",
    "    hour = period_data['hour'].iloc[0]\n",
    "\n",
    "    # Variance of diffs\n",
    "    diffs_variance = np.var(period_data['diffs']) # Lower = more stable\n",
    "\n",
    "    period_stability.append({\n",
    "        'hour': hour, \n",
    "        'meds': meds_value,\n",
    "        'stability': diffs_variance,\n",
    "        'time_start': period_data['time'].iloc[0][11:16]\n",
    "    })\n",
    "\n",
    "    print(f\"Hour {hour:2d}: diffs_variance={diffs_variance:.3f}\")"
   ],
   "outputs": [
    {
     "name": "stdout",
     "output_type": "stream",
     "text": [
      "Hour  0: diffs_variance=0.285\n",
      "Hour 11: diffs_variance=0.876\n",
      "Hour 19: diffs_variance=1.000\n",
      "Hour 16: diffs_variance=0.806\n",
      "Hour  6: diffs_variance=1.378\n"
     ]
    }
   ],
   "execution_count": 10
  },
  {
   "cell_type": "markdown",
   "id": "66986aec-614a-41b1-ae6a-b141454caa56",
   "metadata": {},
   "source": "### STEP2: Sort by stability (lowest variance first)"
  },
  {
   "cell_type": "code",
   "id": "05bd5663-6945-457a-a753-16ccb1784798",
   "metadata": {
    "ExecuteTime": {
     "end_time": "2025-05-26T23:37:38.423947Z",
     "start_time": "2025-05-26T23:37:38.421099Z"
    }
   },
   "source": [
    "period_stability.sort(key=lambda x: x['stability'])"
   ],
   "outputs": [],
   "execution_count": 11
  },
  {
   "cell_type": "code",
   "id": "bd84f959-1a88-4e83-a258-4e0dbf6c2d02",
   "metadata": {
    "ExecuteTime": {
     "end_time": "2025-05-26T23:37:38.952099Z",
     "start_time": "2025-05-26T23:37:38.949637Z"
    }
   },
   "source": [
    "# Select 3 periods: most stable + good time spread\n",
    "selected = []"
   ],
   "outputs": [],
   "execution_count": 12
  },
  {
   "cell_type": "markdown",
   "id": "fc40f9fb-9e7d-40de-8a7d-6cbef90384bb",
   "metadata": {},
   "source": [
    "#### Strategy: pick most stable from early/mid/late day"
   ]
  },
  {
   "cell_type": "code",
   "id": "46314e45-a731-472e-9db0-f291d01fce60",
   "metadata": {
    "ExecuteTime": {
     "end_time": "2025-05-26T23:37:39.831146Z",
     "start_time": "2025-05-26T23:37:39.828835Z"
    }
   },
   "source": [
    "early = [p for p in period_stability if p['hour'] <= 8]\n",
    "mid = [p for p in period_stability if 9 <= p['hour'] <= 15]\n",
    "late = [p for p in period_stability if p['hour'] >= 16]"
   ],
   "outputs": [],
   "execution_count": 13
  },
  {
   "cell_type": "code",
   "id": "e92778f7-18c1-4a2d-aabd-aa492f8ea811",
   "metadata": {
    "ExecuteTime": {
     "end_time": "2025-05-26T23:37:40.272582Z",
     "start_time": "2025-05-26T23:37:40.270503Z"
    }
   },
   "source": [
    "if early: selected.append(early[0])\n",
    "if mid: selected.append(mid[0])\n",
    "if late: selected.append(late[0])"
   ],
   "outputs": [],
   "execution_count": 14
  },
  {
   "cell_type": "code",
   "id": "801a44a7-1f5f-4413-a366-4dd5a049545a",
   "metadata": {
    "ExecuteTime": {
     "end_time": "2025-05-26T23:37:41.987717Z",
     "start_time": "2025-05-26T23:37:41.984394Z"
    }
   },
   "source": [
    "selected"
   ],
   "outputs": [
    {
     "data": {
      "text/plain": [
       "[{'hour': np.int64(0),\n",
       "  'meds': np.float64(5.375),\n",
       "  'stability': np.float64(0.2847755555555555),\n",
       "  'time_start': '00:01'},\n",
       " {'hour': np.int64(11),\n",
       "  'meds': np.float64(6.6),\n",
       "  'stability': np.float64(0.8756712222222222),\n",
       "  'time_start': '11:03'},\n",
       " {'hour': np.int64(16),\n",
       "  'meds': np.float64(10.43),\n",
       "  'stability': np.float64(0.8060623333333334),\n",
       "  'time_start': '16:03'}]"
      ]
     },
     "execution_count": 15,
     "metadata": {},
     "output_type": "execute_result"
    }
   ],
   "execution_count": 15
  },
  {
   "cell_type": "markdown",
   "id": "0523a9f6-cb3e-43be-a39e-f729005ff1d6",
   "metadata": {},
   "source": "### STEP3: Extract first 15 measurements from each selected period"
  },
  {
   "cell_type": "code",
   "id": "f581c5a7-bd32-4f7e-9d11-836a018cbd4b",
   "metadata": {
    "ExecuteTime": {
     "end_time": "2025-05-26T23:37:50.473034Z",
     "start_time": "2025-05-26T23:37:50.469982Z"
    }
   },
   "source": [
    "final_dataset = pd.DataFrame()"
   ],
   "outputs": [],
   "execution_count": 16
  },
  {
   "cell_type": "code",
   "id": "82b2bd7e-124b-47e3-aed8-b2559b69d37f",
   "metadata": {
    "ExecuteTime": {
     "end_time": "2025-05-26T23:37:50.773195Z",
     "start_time": "2025-05-26T23:37:50.769691Z"
    }
   },
   "source": [
    "for i, period in enumerate(selected):\n",
    "    period_data = data[data['meds'] == period['meds']].head(15)\n",
    "    final_dataset = pd.concat([final_dataset, period_data], ignore_index=True)\n",
    "\n",
    "    print(f\"Period {i+1}: Hour {period['hour']} - {len(period_data)} measurements\")"
   ],
   "outputs": [
    {
     "name": "stdout",
     "output_type": "stream",
     "text": [
      "Period 1: Hour 0 - 15 measurements\n",
      "Period 2: Hour 11 - 15 measurements\n",
      "Period 3: Hour 16 - 15 measurements\n"
     ]
    }
   ],
   "execution_count": 17
  },
  {
   "cell_type": "code",
   "id": "70a859fe-6a4f-4296-8307-61de0cfa2069",
   "metadata": {
    "ExecuteTime": {
     "end_time": "2025-05-26T23:37:50.970660Z",
     "start_time": "2025-05-26T23:37:50.963439Z"
    }
   },
   "source": [
    "final_dataset"
   ],
   "outputs": [
    {
     "data": {
      "text/plain": [
       "    aq2.5                     time  hour  diffs    meds\n",
       "0    6.14  2022-04-01 00:01:10 UTC     0  0.765   5.375\n",
       "1    5.00  2022-04-01 00:03:10 UTC     0 -0.375   5.375\n",
       "2    5.29  2022-04-01 00:05:10 UTC     0 -0.085   5.375\n",
       "3    4.73  2022-04-01 00:07:10 UTC     0 -0.645   5.375\n",
       "4    4.31  2022-04-01 00:09:10 UTC     0 -1.065   5.375\n",
       "5    5.66  2022-04-01 00:11:10 UTC     0  0.285   5.375\n",
       "6    4.41  2022-04-01 00:13:10 UTC     0 -0.965   5.375\n",
       "7    5.55  2022-04-01 00:15:10 UTC     0  0.175   5.375\n",
       "8    5.63  2022-04-01 00:17:10 UTC     0  0.255   5.375\n",
       "9    5.97  2022-04-01 00:19:10 UTC     0  0.595   5.375\n",
       "10   6.88  2022-04-01 00:21:10 UTC     0  1.505   5.375\n",
       "11   5.67  2022-04-01 00:23:10 UTC     0  0.295   5.375\n",
       "12   5.57  2022-04-01 00:25:10 UTC     0  0.195   5.375\n",
       "13   5.42  2022-04-01 00:27:10 UTC     0  0.045   5.375\n",
       "14   5.33  2022-04-01 00:29:10 UTC     0 -0.045   5.375\n",
       "15   5.90  2022-04-01 11:03:16 UTC    11 -0.700   6.600\n",
       "16   7.14  2022-04-01 11:05:16 UTC    11  0.540   6.600\n",
       "17   6.93  2022-04-01 11:07:16 UTC    11  0.330   6.600\n",
       "18   6.16  2022-04-01 11:09:16 UTC    11 -0.440   6.600\n",
       "19   8.65  2022-04-01 11:11:16 UTC    11  2.050   6.600\n",
       "20   6.20  2022-04-01 11:13:16 UTC    11 -0.400   6.600\n",
       "21   7.84  2022-04-01 11:15:16 UTC    11  1.240   6.600\n",
       "22   7.22  2022-04-01 11:17:16 UTC    11  0.620   6.600\n",
       "23   6.84  2022-04-01 11:19:16 UTC    11  0.240   6.600\n",
       "24   6.81  2022-04-01 11:21:16 UTC    11  0.210   6.600\n",
       "25   6.70  2022-04-01 11:23:16 UTC    11  0.100   6.600\n",
       "26   6.89  2022-04-01 11:25:17 UTC    11  0.290   6.600\n",
       "27   7.32  2022-04-01 11:27:16 UTC    11  0.720   6.600\n",
       "28   7.27  2022-04-01 11:29:16 UTC    11  0.670   6.600\n",
       "29   6.03  2022-04-01 11:31:16 UTC    11 -0.570   6.600\n",
       "30   9.89  2022-04-01 16:03:18 UTC    16 -0.540  10.430\n",
       "31   9.84  2022-04-01 16:05:18 UTC    16 -0.590  10.430\n",
       "32  11.98  2022-04-01 16:07:18 UTC    16  1.550  10.430\n",
       "33  11.12  2022-04-01 16:09:18 UTC    16  0.690  10.430\n",
       "34   9.94  2022-04-01 16:11:18 UTC    16 -0.490  10.430\n",
       "35  10.25  2022-04-01 16:13:18 UTC    16 -0.180  10.430\n",
       "36  10.78  2022-04-01 16:15:18 UTC    16  0.350  10.430\n",
       "37   9.35  2022-04-01 16:17:18 UTC    16 -1.080  10.430\n",
       "38  12.11  2022-04-01 16:19:18 UTC    16  1.680  10.430\n",
       "39  10.55  2022-04-01 16:21:18 UTC    16  0.120  10.430\n",
       "40   9.95  2022-04-01 16:25:18 UTC    16 -0.480  10.430\n",
       "41  11.05  2022-04-01 16:27:18 UTC    16  0.620  10.430\n",
       "42   9.95  2022-04-01 16:29:18 UTC    16 -0.480  10.430\n",
       "43  10.70  2022-04-01 16:31:18 UTC    16  0.270  10.430\n",
       "44  10.72  2022-04-01 16:33:19 UTC    16  0.290  10.430"
      ],
      "text/html": [
       "<div>\n",
       "<style scoped>\n",
       "    .dataframe tbody tr th:only-of-type {\n",
       "        vertical-align: middle;\n",
       "    }\n",
       "\n",
       "    .dataframe tbody tr th {\n",
       "        vertical-align: top;\n",
       "    }\n",
       "\n",
       "    .dataframe thead th {\n",
       "        text-align: right;\n",
       "    }\n",
       "</style>\n",
       "<table border=\"1\" class=\"dataframe\">\n",
       "  <thead>\n",
       "    <tr style=\"text-align: right;\">\n",
       "      <th></th>\n",
       "      <th>aq2.5</th>\n",
       "      <th>time</th>\n",
       "      <th>hour</th>\n",
       "      <th>diffs</th>\n",
       "      <th>meds</th>\n",
       "    </tr>\n",
       "  </thead>\n",
       "  <tbody>\n",
       "    <tr>\n",
       "      <th>0</th>\n",
       "      <td>6.14</td>\n",
       "      <td>2022-04-01 00:01:10 UTC</td>\n",
       "      <td>0</td>\n",
       "      <td>0.765</td>\n",
       "      <td>5.375</td>\n",
       "    </tr>\n",
       "    <tr>\n",
       "      <th>1</th>\n",
       "      <td>5.00</td>\n",
       "      <td>2022-04-01 00:03:10 UTC</td>\n",
       "      <td>0</td>\n",
       "      <td>-0.375</td>\n",
       "      <td>5.375</td>\n",
       "    </tr>\n",
       "    <tr>\n",
       "      <th>2</th>\n",
       "      <td>5.29</td>\n",
       "      <td>2022-04-01 00:05:10 UTC</td>\n",
       "      <td>0</td>\n",
       "      <td>-0.085</td>\n",
       "      <td>5.375</td>\n",
       "    </tr>\n",
       "    <tr>\n",
       "      <th>3</th>\n",
       "      <td>4.73</td>\n",
       "      <td>2022-04-01 00:07:10 UTC</td>\n",
       "      <td>0</td>\n",
       "      <td>-0.645</td>\n",
       "      <td>5.375</td>\n",
       "    </tr>\n",
       "    <tr>\n",
       "      <th>4</th>\n",
       "      <td>4.31</td>\n",
       "      <td>2022-04-01 00:09:10 UTC</td>\n",
       "      <td>0</td>\n",
       "      <td>-1.065</td>\n",
       "      <td>5.375</td>\n",
       "    </tr>\n",
       "    <tr>\n",
       "      <th>5</th>\n",
       "      <td>5.66</td>\n",
       "      <td>2022-04-01 00:11:10 UTC</td>\n",
       "      <td>0</td>\n",
       "      <td>0.285</td>\n",
       "      <td>5.375</td>\n",
       "    </tr>\n",
       "    <tr>\n",
       "      <th>6</th>\n",
       "      <td>4.41</td>\n",
       "      <td>2022-04-01 00:13:10 UTC</td>\n",
       "      <td>0</td>\n",
       "      <td>-0.965</td>\n",
       "      <td>5.375</td>\n",
       "    </tr>\n",
       "    <tr>\n",
       "      <th>7</th>\n",
       "      <td>5.55</td>\n",
       "      <td>2022-04-01 00:15:10 UTC</td>\n",
       "      <td>0</td>\n",
       "      <td>0.175</td>\n",
       "      <td>5.375</td>\n",
       "    </tr>\n",
       "    <tr>\n",
       "      <th>8</th>\n",
       "      <td>5.63</td>\n",
       "      <td>2022-04-01 00:17:10 UTC</td>\n",
       "      <td>0</td>\n",
       "      <td>0.255</td>\n",
       "      <td>5.375</td>\n",
       "    </tr>\n",
       "    <tr>\n",
       "      <th>9</th>\n",
       "      <td>5.97</td>\n",
       "      <td>2022-04-01 00:19:10 UTC</td>\n",
       "      <td>0</td>\n",
       "      <td>0.595</td>\n",
       "      <td>5.375</td>\n",
       "    </tr>\n",
       "    <tr>\n",
       "      <th>10</th>\n",
       "      <td>6.88</td>\n",
       "      <td>2022-04-01 00:21:10 UTC</td>\n",
       "      <td>0</td>\n",
       "      <td>1.505</td>\n",
       "      <td>5.375</td>\n",
       "    </tr>\n",
       "    <tr>\n",
       "      <th>11</th>\n",
       "      <td>5.67</td>\n",
       "      <td>2022-04-01 00:23:10 UTC</td>\n",
       "      <td>0</td>\n",
       "      <td>0.295</td>\n",
       "      <td>5.375</td>\n",
       "    </tr>\n",
       "    <tr>\n",
       "      <th>12</th>\n",
       "      <td>5.57</td>\n",
       "      <td>2022-04-01 00:25:10 UTC</td>\n",
       "      <td>0</td>\n",
       "      <td>0.195</td>\n",
       "      <td>5.375</td>\n",
       "    </tr>\n",
       "    <tr>\n",
       "      <th>13</th>\n",
       "      <td>5.42</td>\n",
       "      <td>2022-04-01 00:27:10 UTC</td>\n",
       "      <td>0</td>\n",
       "      <td>0.045</td>\n",
       "      <td>5.375</td>\n",
       "    </tr>\n",
       "    <tr>\n",
       "      <th>14</th>\n",
       "      <td>5.33</td>\n",
       "      <td>2022-04-01 00:29:10 UTC</td>\n",
       "      <td>0</td>\n",
       "      <td>-0.045</td>\n",
       "      <td>5.375</td>\n",
       "    </tr>\n",
       "    <tr>\n",
       "      <th>15</th>\n",
       "      <td>5.90</td>\n",
       "      <td>2022-04-01 11:03:16 UTC</td>\n",
       "      <td>11</td>\n",
       "      <td>-0.700</td>\n",
       "      <td>6.600</td>\n",
       "    </tr>\n",
       "    <tr>\n",
       "      <th>16</th>\n",
       "      <td>7.14</td>\n",
       "      <td>2022-04-01 11:05:16 UTC</td>\n",
       "      <td>11</td>\n",
       "      <td>0.540</td>\n",
       "      <td>6.600</td>\n",
       "    </tr>\n",
       "    <tr>\n",
       "      <th>17</th>\n",
       "      <td>6.93</td>\n",
       "      <td>2022-04-01 11:07:16 UTC</td>\n",
       "      <td>11</td>\n",
       "      <td>0.330</td>\n",
       "      <td>6.600</td>\n",
       "    </tr>\n",
       "    <tr>\n",
       "      <th>18</th>\n",
       "      <td>6.16</td>\n",
       "      <td>2022-04-01 11:09:16 UTC</td>\n",
       "      <td>11</td>\n",
       "      <td>-0.440</td>\n",
       "      <td>6.600</td>\n",
       "    </tr>\n",
       "    <tr>\n",
       "      <th>19</th>\n",
       "      <td>8.65</td>\n",
       "      <td>2022-04-01 11:11:16 UTC</td>\n",
       "      <td>11</td>\n",
       "      <td>2.050</td>\n",
       "      <td>6.600</td>\n",
       "    </tr>\n",
       "    <tr>\n",
       "      <th>20</th>\n",
       "      <td>6.20</td>\n",
       "      <td>2022-04-01 11:13:16 UTC</td>\n",
       "      <td>11</td>\n",
       "      <td>-0.400</td>\n",
       "      <td>6.600</td>\n",
       "    </tr>\n",
       "    <tr>\n",
       "      <th>21</th>\n",
       "      <td>7.84</td>\n",
       "      <td>2022-04-01 11:15:16 UTC</td>\n",
       "      <td>11</td>\n",
       "      <td>1.240</td>\n",
       "      <td>6.600</td>\n",
       "    </tr>\n",
       "    <tr>\n",
       "      <th>22</th>\n",
       "      <td>7.22</td>\n",
       "      <td>2022-04-01 11:17:16 UTC</td>\n",
       "      <td>11</td>\n",
       "      <td>0.620</td>\n",
       "      <td>6.600</td>\n",
       "    </tr>\n",
       "    <tr>\n",
       "      <th>23</th>\n",
       "      <td>6.84</td>\n",
       "      <td>2022-04-01 11:19:16 UTC</td>\n",
       "      <td>11</td>\n",
       "      <td>0.240</td>\n",
       "      <td>6.600</td>\n",
       "    </tr>\n",
       "    <tr>\n",
       "      <th>24</th>\n",
       "      <td>6.81</td>\n",
       "      <td>2022-04-01 11:21:16 UTC</td>\n",
       "      <td>11</td>\n",
       "      <td>0.210</td>\n",
       "      <td>6.600</td>\n",
       "    </tr>\n",
       "    <tr>\n",
       "      <th>25</th>\n",
       "      <td>6.70</td>\n",
       "      <td>2022-04-01 11:23:16 UTC</td>\n",
       "      <td>11</td>\n",
       "      <td>0.100</td>\n",
       "      <td>6.600</td>\n",
       "    </tr>\n",
       "    <tr>\n",
       "      <th>26</th>\n",
       "      <td>6.89</td>\n",
       "      <td>2022-04-01 11:25:17 UTC</td>\n",
       "      <td>11</td>\n",
       "      <td>0.290</td>\n",
       "      <td>6.600</td>\n",
       "    </tr>\n",
       "    <tr>\n",
       "      <th>27</th>\n",
       "      <td>7.32</td>\n",
       "      <td>2022-04-01 11:27:16 UTC</td>\n",
       "      <td>11</td>\n",
       "      <td>0.720</td>\n",
       "      <td>6.600</td>\n",
       "    </tr>\n",
       "    <tr>\n",
       "      <th>28</th>\n",
       "      <td>7.27</td>\n",
       "      <td>2022-04-01 11:29:16 UTC</td>\n",
       "      <td>11</td>\n",
       "      <td>0.670</td>\n",
       "      <td>6.600</td>\n",
       "    </tr>\n",
       "    <tr>\n",
       "      <th>29</th>\n",
       "      <td>6.03</td>\n",
       "      <td>2022-04-01 11:31:16 UTC</td>\n",
       "      <td>11</td>\n",
       "      <td>-0.570</td>\n",
       "      <td>6.600</td>\n",
       "    </tr>\n",
       "    <tr>\n",
       "      <th>30</th>\n",
       "      <td>9.89</td>\n",
       "      <td>2022-04-01 16:03:18 UTC</td>\n",
       "      <td>16</td>\n",
       "      <td>-0.540</td>\n",
       "      <td>10.430</td>\n",
       "    </tr>\n",
       "    <tr>\n",
       "      <th>31</th>\n",
       "      <td>9.84</td>\n",
       "      <td>2022-04-01 16:05:18 UTC</td>\n",
       "      <td>16</td>\n",
       "      <td>-0.590</td>\n",
       "      <td>10.430</td>\n",
       "    </tr>\n",
       "    <tr>\n",
       "      <th>32</th>\n",
       "      <td>11.98</td>\n",
       "      <td>2022-04-01 16:07:18 UTC</td>\n",
       "      <td>16</td>\n",
       "      <td>1.550</td>\n",
       "      <td>10.430</td>\n",
       "    </tr>\n",
       "    <tr>\n",
       "      <th>33</th>\n",
       "      <td>11.12</td>\n",
       "      <td>2022-04-01 16:09:18 UTC</td>\n",
       "      <td>16</td>\n",
       "      <td>0.690</td>\n",
       "      <td>10.430</td>\n",
       "    </tr>\n",
       "    <tr>\n",
       "      <th>34</th>\n",
       "      <td>9.94</td>\n",
       "      <td>2022-04-01 16:11:18 UTC</td>\n",
       "      <td>16</td>\n",
       "      <td>-0.490</td>\n",
       "      <td>10.430</td>\n",
       "    </tr>\n",
       "    <tr>\n",
       "      <th>35</th>\n",
       "      <td>10.25</td>\n",
       "      <td>2022-04-01 16:13:18 UTC</td>\n",
       "      <td>16</td>\n",
       "      <td>-0.180</td>\n",
       "      <td>10.430</td>\n",
       "    </tr>\n",
       "    <tr>\n",
       "      <th>36</th>\n",
       "      <td>10.78</td>\n",
       "      <td>2022-04-01 16:15:18 UTC</td>\n",
       "      <td>16</td>\n",
       "      <td>0.350</td>\n",
       "      <td>10.430</td>\n",
       "    </tr>\n",
       "    <tr>\n",
       "      <th>37</th>\n",
       "      <td>9.35</td>\n",
       "      <td>2022-04-01 16:17:18 UTC</td>\n",
       "      <td>16</td>\n",
       "      <td>-1.080</td>\n",
       "      <td>10.430</td>\n",
       "    </tr>\n",
       "    <tr>\n",
       "      <th>38</th>\n",
       "      <td>12.11</td>\n",
       "      <td>2022-04-01 16:19:18 UTC</td>\n",
       "      <td>16</td>\n",
       "      <td>1.680</td>\n",
       "      <td>10.430</td>\n",
       "    </tr>\n",
       "    <tr>\n",
       "      <th>39</th>\n",
       "      <td>10.55</td>\n",
       "      <td>2022-04-01 16:21:18 UTC</td>\n",
       "      <td>16</td>\n",
       "      <td>0.120</td>\n",
       "      <td>10.430</td>\n",
       "    </tr>\n",
       "    <tr>\n",
       "      <th>40</th>\n",
       "      <td>9.95</td>\n",
       "      <td>2022-04-01 16:25:18 UTC</td>\n",
       "      <td>16</td>\n",
       "      <td>-0.480</td>\n",
       "      <td>10.430</td>\n",
       "    </tr>\n",
       "    <tr>\n",
       "      <th>41</th>\n",
       "      <td>11.05</td>\n",
       "      <td>2022-04-01 16:27:18 UTC</td>\n",
       "      <td>16</td>\n",
       "      <td>0.620</td>\n",
       "      <td>10.430</td>\n",
       "    </tr>\n",
       "    <tr>\n",
       "      <th>42</th>\n",
       "      <td>9.95</td>\n",
       "      <td>2022-04-01 16:29:18 UTC</td>\n",
       "      <td>16</td>\n",
       "      <td>-0.480</td>\n",
       "      <td>10.430</td>\n",
       "    </tr>\n",
       "    <tr>\n",
       "      <th>43</th>\n",
       "      <td>10.70</td>\n",
       "      <td>2022-04-01 16:31:18 UTC</td>\n",
       "      <td>16</td>\n",
       "      <td>0.270</td>\n",
       "      <td>10.430</td>\n",
       "    </tr>\n",
       "    <tr>\n",
       "      <th>44</th>\n",
       "      <td>10.72</td>\n",
       "      <td>2022-04-01 16:33:19 UTC</td>\n",
       "      <td>16</td>\n",
       "      <td>0.290</td>\n",
       "      <td>10.430</td>\n",
       "    </tr>\n",
       "  </tbody>\n",
       "</table>\n",
       "</div>"
      ]
     },
     "execution_count": 18,
     "metadata": {},
     "output_type": "execute_result"
    }
   ],
   "execution_count": 18
  },
  {
   "metadata": {},
   "cell_type": "code",
   "outputs": [],
   "execution_count": null,
   "source": "",
   "id": "1d01deabb4d69f9f"
  }
 ],
 "metadata": {
  "kernelspec": {
   "display_name": "Python 3 (ipykernel)",
   "language": "python",
   "name": "python3"
  },
  "language_info": {
   "codemirror_mode": {
    "name": "ipython",
    "version": 3
   },
   "file_extension": ".py",
   "mimetype": "text/x-python",
   "name": "python",
   "nbconvert_exporter": "python",
   "pygments_lexer": "ipython3",
   "version": "3.9.6"
  }
 },
 "nbformat": 4,
 "nbformat_minor": 5
}
