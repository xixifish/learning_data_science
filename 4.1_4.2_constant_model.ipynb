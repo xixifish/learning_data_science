{
 "cells": [
  {
   "cell_type": "markdown",
   "id": "1dde6bfb-b42b-4296-8fee-f607e7b84fa8",
   "metadata": {},
   "source": [
    "## 4.1 The Constant Model\n",
    "The bus is supposed to arrive every 10 minutes, but Jake notices that he sometimes waits a long time for the bus. He wants to know how late the bus usually is. "
   ]
  },
  {
   "cell_type": "code",
   "id": "b53b2956-8469-4c65-813e-40d1b4bd8cbb",
   "metadata": {
    "ExecuteTime": {
     "end_time": "2025-05-26T23:44:36.067987Z",
     "start_time": "2025-05-26T23:44:36.065107Z"
    }
   },
   "source": [
    "import pandas as pd\n",
    "import numpy as np\n",
    "import plotly.express as px\n",
    "import matplotlib.pyplot as plt"
   ],
   "outputs": [],
   "execution_count": 5
  },
  {
   "cell_type": "code",
   "id": "7af03640-878c-4658-b661-e495c0ffd0e0",
   "metadata": {
    "ExecuteTime": {
     "end_time": "2025-05-26T23:44:36.655493Z",
     "start_time": "2025-05-26T23:44:36.648140Z"
    }
   },
   "source": [
    "times = pd.read_csv(\"4.1/seattle_bus_times_nc.csv\")\n",
    "times"
   ],
   "outputs": [
    {
     "data": {
      "text/plain": [
       "     route   direction            scheduled               actual  minutes_late\n",
       "0        C  northbound  2016-03-26 06:30:28  2016-03-26 06:26:04     -4.400000\n",
       "1        C  northbound  2016-03-26 01:05:25  2016-03-26 01:10:15      4.833333\n",
       "2        C  northbound  2016-03-26 21:00:25  2016-03-26 21:05:00      4.583333\n",
       "3        C  northbound  2016-03-26 22:30:25  2016-03-26 22:34:28      4.050000\n",
       "4        C  northbound  2016-03-26 20:15:25  2016-03-26 20:23:39      8.233333\n",
       "...    ...         ...                  ...                  ...           ...\n",
       "1429     C  northbound  2016-04-10 13:15:28  2016-04-10 13:11:36     -3.866667\n",
       "1430     C  northbound  2016-04-10 10:45:28  2016-04-10 10:40:56     -4.533333\n",
       "1431     C  northbound  2016-04-10 06:15:28  2016-04-10 06:11:37     -3.850000\n",
       "1432     C  northbound  2016-04-10 17:00:28  2016-04-10 16:56:54     -3.566667\n",
       "1433     C  northbound  2016-04-10 20:15:25  2016-04-10 20:18:21      2.933333\n",
       "\n",
       "[1434 rows x 5 columns]"
      ],
      "text/html": [
       "<div>\n",
       "<style scoped>\n",
       "    .dataframe tbody tr th:only-of-type {\n",
       "        vertical-align: middle;\n",
       "    }\n",
       "\n",
       "    .dataframe tbody tr th {\n",
       "        vertical-align: top;\n",
       "    }\n",
       "\n",
       "    .dataframe thead th {\n",
       "        text-align: right;\n",
       "    }\n",
       "</style>\n",
       "<table border=\"1\" class=\"dataframe\">\n",
       "  <thead>\n",
       "    <tr style=\"text-align: right;\">\n",
       "      <th></th>\n",
       "      <th>route</th>\n",
       "      <th>direction</th>\n",
       "      <th>scheduled</th>\n",
       "      <th>actual</th>\n",
       "      <th>minutes_late</th>\n",
       "    </tr>\n",
       "  </thead>\n",
       "  <tbody>\n",
       "    <tr>\n",
       "      <th>0</th>\n",
       "      <td>C</td>\n",
       "      <td>northbound</td>\n",
       "      <td>2016-03-26 06:30:28</td>\n",
       "      <td>2016-03-26 06:26:04</td>\n",
       "      <td>-4.400000</td>\n",
       "    </tr>\n",
       "    <tr>\n",
       "      <th>1</th>\n",
       "      <td>C</td>\n",
       "      <td>northbound</td>\n",
       "      <td>2016-03-26 01:05:25</td>\n",
       "      <td>2016-03-26 01:10:15</td>\n",
       "      <td>4.833333</td>\n",
       "    </tr>\n",
       "    <tr>\n",
       "      <th>2</th>\n",
       "      <td>C</td>\n",
       "      <td>northbound</td>\n",
       "      <td>2016-03-26 21:00:25</td>\n",
       "      <td>2016-03-26 21:05:00</td>\n",
       "      <td>4.583333</td>\n",
       "    </tr>\n",
       "    <tr>\n",
       "      <th>3</th>\n",
       "      <td>C</td>\n",
       "      <td>northbound</td>\n",
       "      <td>2016-03-26 22:30:25</td>\n",
       "      <td>2016-03-26 22:34:28</td>\n",
       "      <td>4.050000</td>\n",
       "    </tr>\n",
       "    <tr>\n",
       "      <th>4</th>\n",
       "      <td>C</td>\n",
       "      <td>northbound</td>\n",
       "      <td>2016-03-26 20:15:25</td>\n",
       "      <td>2016-03-26 20:23:39</td>\n",
       "      <td>8.233333</td>\n",
       "    </tr>\n",
       "    <tr>\n",
       "      <th>...</th>\n",
       "      <td>...</td>\n",
       "      <td>...</td>\n",
       "      <td>...</td>\n",
       "      <td>...</td>\n",
       "      <td>...</td>\n",
       "    </tr>\n",
       "    <tr>\n",
       "      <th>1429</th>\n",
       "      <td>C</td>\n",
       "      <td>northbound</td>\n",
       "      <td>2016-04-10 13:15:28</td>\n",
       "      <td>2016-04-10 13:11:36</td>\n",
       "      <td>-3.866667</td>\n",
       "    </tr>\n",
       "    <tr>\n",
       "      <th>1430</th>\n",
       "      <td>C</td>\n",
       "      <td>northbound</td>\n",
       "      <td>2016-04-10 10:45:28</td>\n",
       "      <td>2016-04-10 10:40:56</td>\n",
       "      <td>-4.533333</td>\n",
       "    </tr>\n",
       "    <tr>\n",
       "      <th>1431</th>\n",
       "      <td>C</td>\n",
       "      <td>northbound</td>\n",
       "      <td>2016-04-10 06:15:28</td>\n",
       "      <td>2016-04-10 06:11:37</td>\n",
       "      <td>-3.850000</td>\n",
       "    </tr>\n",
       "    <tr>\n",
       "      <th>1432</th>\n",
       "      <td>C</td>\n",
       "      <td>northbound</td>\n",
       "      <td>2016-04-10 17:00:28</td>\n",
       "      <td>2016-04-10 16:56:54</td>\n",
       "      <td>-3.566667</td>\n",
       "    </tr>\n",
       "    <tr>\n",
       "      <th>1433</th>\n",
       "      <td>C</td>\n",
       "      <td>northbound</td>\n",
       "      <td>2016-04-10 20:15:25</td>\n",
       "      <td>2016-04-10 20:18:21</td>\n",
       "      <td>2.933333</td>\n",
       "    </tr>\n",
       "  </tbody>\n",
       "</table>\n",
       "<p>1434 rows × 5 columns</p>\n",
       "</div>"
      ]
     },
     "execution_count": 6,
     "metadata": {},
     "output_type": "execute_result"
    }
   ],
   "execution_count": 6
  },
  {
   "cell_type": "markdown",
   "id": "7ce84fd3-6af0-49c4-a1ec-f583013d2937",
   "metadata": {},
   "source": [
    "The ```minutes_late``` column in the data table records how late each bus was."
   ]
  },
  {
   "cell_type": "code",
   "id": "16ce41de-bf79-48cf-9ffb-21227d7110e7",
   "metadata": {
    "ExecuteTime": {
     "end_time": "2025-05-26T23:47:43.625676Z",
     "start_time": "2025-05-26T23:47:43.599907Z"
    }
   },
   "source": [
    "# Examine a histogram of the minutes each bus is late:\n",
    "fig = px.histogram(times, x='minutes_late', width=450, height=250)\n",
    "\n",
    "# Update the style of the histogram\n",
    "fig.update_traces(marker_color='#1f77b4', \n",
    "                  marker_line_color='#ffffff',\n",
    "                  marker_line_width=0.5,\n",
    "                  opacity=1)\n",
    "\n",
    "# Update the axes\n",
    "fig.update_xaxes(range=[-12, 60], title_text='Minute late', color='#666666')\n",
    "fig.update_yaxes(range=[0, 180], title_text='count', color='#666666')\n",
    "\n",
    "# Update layout\n",
    "fig.update_layout(\n",
    "    plot_bgcolor='white',\n",
    "    paper_bgcolor='white',\n",
    "    xaxis=dict(\n",
    "        showgrid=True,\n",
    "        gridcolor='lightgrey',\n",
    "        gridwidth=1\n",
    "    ),\n",
    "    yaxis=dict(\n",
    "        showgrid=True,\n",
    "        gridcolor='lightgrey',\n",
    "        gridwidth=1\n",
    "    )\n",
    ")\n",
    "fig.show()"
   ],
   "outputs": [
    {
     "data": {
      "application/vnd.plotly.v1+json": {
       "data": [
        {
         "bingroup": "x",
         "hovertemplate": "minutes_late=%{x}<br>count=%{y}<extra></extra>",
         "legendgroup": "",
         "marker": {
          "color": "#1f77b4",
          "pattern": {
           "shape": ""
          },
          "line": {
           "color": "#ffffff",
           "width": 0.5
          }
         },
         "name": "",
         "orientation": "v",
         "showlegend": false,
         "x": {
          "dtype": "f8",
          "bdata": "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"
         },
         "xaxis": "x",
         "yaxis": "y",
         "type": "histogram",
         "opacity": 1
        }
       ],
       "layout": {
        "template": {
         "data": {
          "histogram2dcontour": [
           {
            "type": "histogram2dcontour",
            "colorbar": {
             "outlinewidth": 0,
             "ticks": ""
            },
            "colorscale": [
             [
              0.0,
              "#0d0887"
             ],
             [
              0.1111111111111111,
              "#46039f"
             ],
             [
              0.2222222222222222,
              "#7201a8"
             ],
             [
              0.3333333333333333,
              "#9c179e"
             ],
             [
              0.4444444444444444,
              "#bd3786"
             ],
             [
              0.5555555555555556,
              "#d8576b"
             ],
             [
              0.6666666666666666,
              "#ed7953"
             ],
             [
              0.7777777777777778,
              "#fb9f3a"
             ],
             [
              0.8888888888888888,
              "#fdca26"
             ],
             [
              1.0,
              "#f0f921"
             ]
            ]
           }
          ],
          "choropleth": [
           {
            "type": "choropleth",
            "colorbar": {
             "outlinewidth": 0,
             "ticks": ""
            }
           }
          ],
          "histogram2d": [
           {
            "type": "histogram2d",
            "colorbar": {
             "outlinewidth": 0,
             "ticks": ""
            },
            "colorscale": [
             [
              0.0,
              "#0d0887"
             ],
             [
              0.1111111111111111,
              "#46039f"
             ],
             [
              0.2222222222222222,
              "#7201a8"
             ],
             [
              0.3333333333333333,
              "#9c179e"
             ],
             [
              0.4444444444444444,
              "#bd3786"
             ],
             [
              0.5555555555555556,
              "#d8576b"
             ],
             [
              0.6666666666666666,
              "#ed7953"
             ],
             [
              0.7777777777777778,
              "#fb9f3a"
             ],
             [
              0.8888888888888888,
              "#fdca26"
             ],
             [
              1.0,
              "#f0f921"
             ]
            ]
           }
          ],
          "heatmap": [
           {
            "type": "heatmap",
            "colorbar": {
             "outlinewidth": 0,
             "ticks": ""
            },
            "colorscale": [
             [
              0.0,
              "#0d0887"
             ],
             [
              0.1111111111111111,
              "#46039f"
             ],
             [
              0.2222222222222222,
              "#7201a8"
             ],
             [
              0.3333333333333333,
              "#9c179e"
             ],
             [
              0.4444444444444444,
              "#bd3786"
             ],
             [
              0.5555555555555556,
              "#d8576b"
             ],
             [
              0.6666666666666666,
              "#ed7953"
             ],
             [
              0.7777777777777778,
              "#fb9f3a"
             ],
             [
              0.8888888888888888,
              "#fdca26"
             ],
             [
              1.0,
              "#f0f921"
             ]
            ]
           }
          ],
          "contourcarpet": [
           {
            "type": "contourcarpet",
            "colorbar": {
             "outlinewidth": 0,
             "ticks": ""
            }
           }
          ],
          "contour": [
           {
            "type": "contour",
            "colorbar": {
             "outlinewidth": 0,
             "ticks": ""
            },
            "colorscale": [
             [
              0.0,
              "#0d0887"
             ],
             [
              0.1111111111111111,
              "#46039f"
             ],
             [
              0.2222222222222222,
              "#7201a8"
             ],
             [
              0.3333333333333333,
              "#9c179e"
             ],
             [
              0.4444444444444444,
              "#bd3786"
             ],
             [
              0.5555555555555556,
              "#d8576b"
             ],
             [
              0.6666666666666666,
              "#ed7953"
             ],
             [
              0.7777777777777778,
              "#fb9f3a"
             ],
             [
              0.8888888888888888,
              "#fdca26"
             ],
             [
              1.0,
              "#f0f921"
             ]
            ]
           }
          ],
          "surface": [
           {
            "type": "surface",
            "colorbar": {
             "outlinewidth": 0,
             "ticks": ""
            },
            "colorscale": [
             [
              0.0,
              "#0d0887"
             ],
             [
              0.1111111111111111,
              "#46039f"
             ],
             [
              0.2222222222222222,
              "#7201a8"
             ],
             [
              0.3333333333333333,
              "#9c179e"
             ],
             [
              0.4444444444444444,
              "#bd3786"
             ],
             [
              0.5555555555555556,
              "#d8576b"
             ],
             [
              0.6666666666666666,
              "#ed7953"
             ],
             [
              0.7777777777777778,
              "#fb9f3a"
             ],
             [
              0.8888888888888888,
              "#fdca26"
             ],
             [
              1.0,
              "#f0f921"
             ]
            ]
           }
          ],
          "mesh3d": [
           {
            "type": "mesh3d",
            "colorbar": {
             "outlinewidth": 0,
             "ticks": ""
            }
           }
          ],
          "scatter": [
           {
            "marker": {
             "line": {
              "color": "#283442"
             }
            },
            "type": "scatter"
           }
          ],
          "parcoords": [
           {
            "type": "parcoords",
            "line": {
             "colorbar": {
              "outlinewidth": 0,
              "ticks": ""
             }
            }
           }
          ],
          "scatterpolargl": [
           {
            "type": "scatterpolargl",
            "marker": {
             "colorbar": {
              "outlinewidth": 0,
              "ticks": ""
             }
            }
           }
          ],
          "bar": [
           {
            "error_x": {
             "color": "#f2f5fa"
            },
            "error_y": {
             "color": "#f2f5fa"
            },
            "marker": {
             "line": {
              "color": "rgb(17,17,17)",
              "width": 0.5
             },
             "pattern": {
              "fillmode": "overlay",
              "size": 10,
              "solidity": 0.2
             }
            },
            "type": "bar"
           }
          ],
          "scattergeo": [
           {
            "type": "scattergeo",
            "marker": {
             "colorbar": {
              "outlinewidth": 0,
              "ticks": ""
             }
            }
           }
          ],
          "scatterpolar": [
           {
            "type": "scatterpolar",
            "marker": {
             "colorbar": {
              "outlinewidth": 0,
              "ticks": ""
             }
            }
           }
          ],
          "histogram": [
           {
            "marker": {
             "pattern": {
              "fillmode": "overlay",
              "size": 10,
              "solidity": 0.2
             }
            },
            "type": "histogram"
           }
          ],
          "scattergl": [
           {
            "marker": {
             "line": {
              "color": "#283442"
             }
            },
            "type": "scattergl"
           }
          ],
          "scatter3d": [
           {
            "type": "scatter3d",
            "line": {
             "colorbar": {
              "outlinewidth": 0,
              "ticks": ""
             }
            },
            "marker": {
             "colorbar": {
              "outlinewidth": 0,
              "ticks": ""
             }
            }
           }
          ],
          "scattermap": [
           {
            "type": "scattermap",
            "marker": {
             "colorbar": {
              "outlinewidth": 0,
              "ticks": ""
             }
            }
           }
          ],
          "scattermapbox": [
           {
            "type": "scattermapbox",
            "marker": {
             "colorbar": {
              "outlinewidth": 0,
              "ticks": ""
             }
            }
           }
          ],
          "scatterternary": [
           {
            "type": "scatterternary",
            "marker": {
             "colorbar": {
              "outlinewidth": 0,
              "ticks": ""
             }
            }
           }
          ],
          "scattercarpet": [
           {
            "type": "scattercarpet",
            "marker": {
             "colorbar": {
              "outlinewidth": 0,
              "ticks": ""
             }
            }
           }
          ],
          "carpet": [
           {
            "aaxis": {
             "endlinecolor": "#A2B1C6",
             "gridcolor": "#506784",
             "linecolor": "#506784",
             "minorgridcolor": "#506784",
             "startlinecolor": "#A2B1C6"
            },
            "baxis": {
             "endlinecolor": "#A2B1C6",
             "gridcolor": "#506784",
             "linecolor": "#506784",
             "minorgridcolor": "#506784",
             "startlinecolor": "#A2B1C6"
            },
            "type": "carpet"
           }
          ],
          "table": [
           {
            "cells": {
             "fill": {
              "color": "#506784"
             },
             "line": {
              "color": "rgb(17,17,17)"
             }
            },
            "header": {
             "fill": {
              "color": "#2a3f5f"
             },
             "line": {
              "color": "rgb(17,17,17)"
             }
            },
            "type": "table"
           }
          ],
          "barpolar": [
           {
            "marker": {
             "line": {
              "color": "rgb(17,17,17)",
              "width": 0.5
             },
             "pattern": {
              "fillmode": "overlay",
              "size": 10,
              "solidity": 0.2
             }
            },
            "type": "barpolar"
           }
          ],
          "pie": [
           {
            "automargin": true,
            "type": "pie"
           }
          ]
         },
         "layout": {
          "autotypenumbers": "strict",
          "colorway": [
           "#636efa",
           "#EF553B",
           "#00cc96",
           "#ab63fa",
           "#FFA15A",
           "#19d3f3",
           "#FF6692",
           "#B6E880",
           "#FF97FF",
           "#FECB52"
          ],
          "font": {
           "color": "#f2f5fa"
          },
          "hovermode": "closest",
          "hoverlabel": {
           "align": "left"
          },
          "paper_bgcolor": "rgb(17,17,17)",
          "plot_bgcolor": "rgb(17,17,17)",
          "polar": {
           "bgcolor": "rgb(17,17,17)",
           "angularaxis": {
            "gridcolor": "#506784",
            "linecolor": "#506784",
            "ticks": ""
           },
           "radialaxis": {
            "gridcolor": "#506784",
            "linecolor": "#506784",
            "ticks": ""
           }
          },
          "ternary": {
           "bgcolor": "rgb(17,17,17)",
           "aaxis": {
            "gridcolor": "#506784",
            "linecolor": "#506784",
            "ticks": ""
           },
           "baxis": {
            "gridcolor": "#506784",
            "linecolor": "#506784",
            "ticks": ""
           },
           "caxis": {
            "gridcolor": "#506784",
            "linecolor": "#506784",
            "ticks": ""
           }
          },
          "coloraxis": {
           "colorbar": {
            "outlinewidth": 0,
            "ticks": ""
           }
          },
          "colorscale": {
           "sequential": [
            [
             0.0,
             "#0d0887"
            ],
            [
             0.1111111111111111,
             "#46039f"
            ],
            [
             0.2222222222222222,
             "#7201a8"
            ],
            [
             0.3333333333333333,
             "#9c179e"
            ],
            [
             0.4444444444444444,
             "#bd3786"
            ],
            [
             0.5555555555555556,
             "#d8576b"
            ],
            [
             0.6666666666666666,
             "#ed7953"
            ],
            [
             0.7777777777777778,
             "#fb9f3a"
            ],
            [
             0.8888888888888888,
             "#fdca26"
            ],
            [
             1.0,
             "#f0f921"
            ]
           ],
           "sequentialminus": [
            [
             0.0,
             "#0d0887"
            ],
            [
             0.1111111111111111,
             "#46039f"
            ],
            [
             0.2222222222222222,
             "#7201a8"
            ],
            [
             0.3333333333333333,
             "#9c179e"
            ],
            [
             0.4444444444444444,
             "#bd3786"
            ],
            [
             0.5555555555555556,
             "#d8576b"
            ],
            [
             0.6666666666666666,
             "#ed7953"
            ],
            [
             0.7777777777777778,
             "#fb9f3a"
            ],
            [
             0.8888888888888888,
             "#fdca26"
            ],
            [
             1.0,
             "#f0f921"
            ]
           ],
           "diverging": [
            [
             0,
             "#8e0152"
            ],
            [
             0.1,
             "#c51b7d"
            ],
            [
             0.2,
             "#de77ae"
            ],
            [
             0.3,
             "#f1b6da"
            ],
            [
             0.4,
             "#fde0ef"
            ],
            [
             0.5,
             "#f7f7f7"
            ],
            [
             0.6,
             "#e6f5d0"
            ],
            [
             0.7,
             "#b8e186"
            ],
            [
             0.8,
             "#7fbc41"
            ],
            [
             0.9,
             "#4d9221"
            ],
            [
             1,
             "#276419"
            ]
           ]
          },
          "xaxis": {
           "gridcolor": "#283442",
           "linecolor": "#506784",
           "ticks": "",
           "title": {
            "standoff": 15
           },
           "zerolinecolor": "#283442",
           "automargin": true,
           "zerolinewidth": 2
          },
          "yaxis": {
           "gridcolor": "#283442",
           "linecolor": "#506784",
           "ticks": "",
           "title": {
            "standoff": 15
           },
           "zerolinecolor": "#283442",
           "automargin": true,
           "zerolinewidth": 2
          },
          "scene": {
           "xaxis": {
            "backgroundcolor": "rgb(17,17,17)",
            "gridcolor": "#506784",
            "linecolor": "#506784",
            "showbackground": true,
            "ticks": "",
            "zerolinecolor": "#C8D4E3",
            "gridwidth": 2
           },
           "yaxis": {
            "backgroundcolor": "rgb(17,17,17)",
            "gridcolor": "#506784",
            "linecolor": "#506784",
            "showbackground": true,
            "ticks": "",
            "zerolinecolor": "#C8D4E3",
            "gridwidth": 2
           },
           "zaxis": {
            "backgroundcolor": "rgb(17,17,17)",
            "gridcolor": "#506784",
            "linecolor": "#506784",
            "showbackground": true,
            "ticks": "",
            "zerolinecolor": "#C8D4E3",
            "gridwidth": 2
           }
          },
          "shapedefaults": {
           "line": {
            "color": "#f2f5fa"
           }
          },
          "annotationdefaults": {
           "arrowcolor": "#f2f5fa",
           "arrowhead": 0,
           "arrowwidth": 1
          },
          "geo": {
           "bgcolor": "rgb(17,17,17)",
           "landcolor": "rgb(17,17,17)",
           "subunitcolor": "#506784",
           "showland": true,
           "showlakes": true,
           "lakecolor": "rgb(17,17,17)"
          },
          "title": {
           "x": 0.05
          },
          "updatemenudefaults": {
           "bgcolor": "#506784",
           "borderwidth": 0
          },
          "sliderdefaults": {
           "bgcolor": "#C8D4E3",
           "borderwidth": 1,
           "bordercolor": "rgb(17,17,17)",
           "tickwidth": 0
          },
          "mapbox": {
           "style": "dark"
          }
         }
        },
        "xaxis": {
         "anchor": "y",
         "domain": [
          0.0,
          1.0
         ],
         "title": {
          "text": "Minute late"
         },
         "range": [
          -12,
          60
         ],
         "color": "#666666",
         "showgrid": true,
         "gridcolor": "lightgrey",
         "gridwidth": 1
        },
        "yaxis": {
         "anchor": "x",
         "domain": [
          0.0,
          1.0
         ],
         "title": {
          "text": "count"
         },
         "range": [
          0,
          180
         ],
         "color": "#666666",
         "showgrid": true,
         "gridcolor": "lightgrey",
         "gridwidth": 1
        },
        "legend": {
         "tracegroupgap": 0
        },
        "margin": {
         "t": 60
        },
        "barmode": "relative",
        "height": 250,
        "width": 450,
        "plot_bgcolor": "white",
        "paper_bgcolor": "white"
       },
       "config": {
        "plotlyServerURL": "https://plot.ly"
       }
      }
     },
     "metadata": {},
     "output_type": "display_data"
    }
   ],
   "execution_count": 19
  },
  {
   "cell_type": "markdown",
   "id": "22ac6b9b-67f3-4110-853f-b5b10da94cce",
   "metadata": {},
   "source": [
    "To understand how late a bus on this route typically is, we'd like to summarize lateness by a constant - this is a statistic, a single number, like the mean, median, or mode. "
   ]
  },
  {
   "cell_type": "code",
   "id": "0290668f-78cc-420f-b607-c7845e9150e2",
   "metadata": {
    "ExecuteTime": {
     "end_time": "2025-05-26T23:48:01.088982Z",
     "start_time": "2025-05-26T23:48:01.085751Z"
    }
   },
   "source": [
    "print(f\"mean:   {round(times['minutes_late'].mean(), 2)} mins late\")\n",
    "print(f\"median: {round(times['minutes_late'].median(), 2)} mins late\")\n",
    "print(f\"mode:   {0:.2f} mins late\")"
   ],
   "outputs": [
    {
     "name": "stdout",
     "output_type": "stream",
     "text": [
      "mean:   1.92 mins late\n",
      "median: 0.74 mins late\n",
      "mode:   0.00 mins late\n"
     ]
    }
   ],
   "execution_count": 20
  },
  {
   "cell_type": "markdown",
   "id": "662df986-3ae3-4586-80c7-b15c13ef8071",
   "metadata": {},
   "source": [
    "Next, we want to know which of these numbers best represents a summary of lateness. We make a constant model for bus lateness. Let's call this constant θ (in modeling, θ is often referred to as a parameter).\n",
    "\n",
    "__For example, if we consider θ = 5, then our model approximates the bus to typically be five minutes late.__\n",
    "\n",
    "However, 5 isn't a particularly good guess. From the histogram, we saw that there are many more points closer to 0 than 5. But it isn't clear that θ = 0 (the mode) is a better choice than θ = 0.74 (the median), θ = 1.92 (the mean), or something else entirely. \n",
    "\n",
    "__To make choices between different values of θ, we would like to assign any value of θ a score that measures how well that constant fits the data.__\n",
    "\n",
    "That is saying, we want to access the loss involved in approximating the data by a constant, like θ = 5. Ideally, we want to pick the constant that best fits our data, meaning ```the constant that has the smallest loss```."
   ]
  },
  {
   "cell_type": "markdown",
   "id": "63e7cd5e-620a-4fed-b7b4-bd7e1ed804dd",
   "metadata": {},
   "source": [
    "### 4.2 Minimizing Loss\n",
    "We use a loss function - a function that measures how far away our prediction (constant θ), is from the actual data. \n",
    "\n",
    "A loss function takes in θ and a data value y. It outputs a single number, the loss, that measures how far away θ is from y. We write the loss function as ```l(θ, y)```. We find the θ that **minimizes** the average loss for our data, y1, ..., yn. \n",
    "\n",
    "We write the average loss as:\n",
    "\n",
    "L(θ, y1, y2, ..., yn) = mean{l(θ, y1), l(θ, y2), ..., l(θ, yn)} $= \\frac{1}{n} \\sum_{i=1}^{n} l(\\theta, y_i)$\n",
    "\n",
    "As a shorthand, we often use the vector **y** = [y1, y2, ..., yn].\n",
    "\n",
    "Then we can write the average loss as: \n",
    "L(θ, **y**) $= \\frac{1}{n} \\sum_{i=1}^{n} l(\\theta, y_i)$\n",
    "\n",
    "Next, we look at two particular loss functions: absolute error and squared error.\n",
    "\n",
    "#### 4.2.1 Mean Absolute Error\n",
    "1. Find the error, y - θ\n",
    "2. Take the absolute value of the error, |y - θ|.\n",
    "\n",
    "So the loss function is **l(θ, y) = |y - θ|**.\n",
    "\n",
    "_Taking the absolute value of the error is a simple way to convert negative errors into positive ones._ Then the negative ones are equally bad as postive ones, like the point y = 4, θ = 2 and θ = 6 are equally \"bad\"."
   ]
  },
  {
   "cell_type": "code",
   "id": "d97214e0-3420-4839-b680-0ebebf79469a",
   "metadata": {
    "ExecuteTime": {
     "end_time": "2025-05-26T23:48:28.430223Z",
     "start_time": "2025-05-26T23:48:28.427591Z"
    }
   },
   "source": [
    "def mae_loss(theta, y_vals):\n",
    "    y_vals = np.array(y_vals)\n",
    "    return np.mean(np.abs(y_vals - theta))"
   ],
   "outputs": [],
   "execution_count": 21
  },
  {
   "cell_type": "code",
   "id": "4969146c-09c6-4fe6-bf98-433da9f7ea7b",
   "metadata": {
    "ExecuteTime": {
     "end_time": "2025-05-26T23:48:32.872202Z",
     "start_time": "2025-05-26T23:48:32.868978Z"
    }
   },
   "source": [
    "# Let's see how this loss function behaves when we have just 5 data points:\n",
    "data_points = [-1, 0, 2, 5, 10]\n",
    "thetas = [-2, 0, 1, 2, 3, 4]\n",
    "loss_dict = {theta: mae_loss(theta, data_points) for theta in thetas}\n",
    "\n",
    "# List the loss values for different theta values\n",
    "print(\"θ : Avg loss\")\n",
    "for theta, avg_loss in loss_dict.items():\n",
    "    print(f\"{theta:2d}: {avg_loss}\")"
   ],
   "outputs": [
    {
     "name": "stdout",
     "output_type": "stream",
     "text": [
      "θ : Avg loss\n",
      "-2: 5.2\n",
      " 0: 3.6\n",
      " 1: 3.4\n",
      " 2: 3.2\n",
      " 3: 3.4\n",
      " 4: 3.6\n"
     ]
    }
   ],
   "execution_count": 22
  },
  {
   "cell_type": "markdown",
   "id": "00011371-15c6-4a2e-bd10-86e9c90682fc",
   "metadata": {},
   "source": [
    "So θ = 2 has the lowest mean absolute error. For this simple example, 2 is the median of the data values. \n",
    "\n",
    "Let's check what the average loss is for the original dataset of bus late times. "
   ]
  },
  {
   "cell_type": "code",
   "id": "65bcc0a2-2833-498b-a27f-90e17c46241a",
   "metadata": {
    "ExecuteTime": {
     "end_time": "2025-05-26T23:48:36.459035Z",
     "start_time": "2025-05-26T23:48:36.455731Z"
    }
   },
   "source": [
    "mins_late_list = list(times['minutes_late'])\n",
    "thetas = [0, 0.74, 1.92]\n",
    "mins_loss_dict = {theta: mae_loss(theta, mins_late_list) for theta in thetas}\n",
    "\n",
    "# List the loss values for different theta values\n",
    "print(\"   θ: Avg loss\")\n",
    "for theta, avg_loss in mins_loss_dict.items():\n",
    "    print(f\"{theta:>4}: {avg_loss}\")"
   ],
   "outputs": [
    {
     "name": "stdout",
     "output_type": "stream",
     "text": [
      "   θ: Avg loss\n",
      "   0: 4.0973733147373315\n",
      "0.74: 4.047326824732682\n",
      "1.92: 4.183342631334263\n"
     ]
    }
   ],
   "execution_count": 23
  },
  {
   "cell_type": "markdown",
   "id": "606418e1-0dc3-4e52-ac95-44f9055d58cf",
   "metadata": {},
   "source": [
    "We see again that the median (middle plot) gives a smaller loss than the mode and mean.\n",
    "\n",
    "__For absolute loss, the minimizing θ̂ is the median {y1, y2, ..., yn}.__\n",
    "\n",
    "Next, let's draw the MAE curve for the bus data."
   ]
  },
  {
   "cell_type": "code",
   "id": "97aec84e-39f5-4cfd-8cb1-e2a914be3009",
   "metadata": {
    "ExecuteTime": {
     "end_time": "2025-05-26T23:48:40.399836Z",
     "start_time": "2025-05-26T23:48:40.391697Z"
    }
   },
   "source": [
    "# Define a range of theta values to test\n",
    "theta_values = np.linspace(-2, 8, 100)\n",
    "\n",
    "# Calculate MAE for each theta value\n",
    "mae_values = []\n",
    "for theta in theta_values:\n",
    "    mae_values.append(mae_loss(theta, mins_late_list))\n",
    "\n",
    "# Find median\n",
    "median_value = np.median(mins_late_list)\n",
    "min_mae = mae_loss(median_value, mins_late_list)"
   ],
   "outputs": [],
   "execution_count": 24
  },
  {
   "cell_type": "code",
   "id": "0bb371b3-e69e-4971-94d6-8b7d51888e08",
   "metadata": {
    "ExecuteTime": {
     "end_time": "2025-05-26T23:48:43.023970Z",
     "start_time": "2025-05-26T23:48:42.924708Z"
    }
   },
   "source": [
    "# Create the plot\n",
    "plt.figure(figsize=(6, 4))\n",
    "\n",
    "# Plot the MAE curve\n",
    "plt.plot(theta_values, mae_values, 'b-', linewidth=2)\n",
    "\n",
    "# Add vertical dashed line at median\n",
    "plt.axvline(x=median_value, color='blue', linestyle='--', linewidth=2,\n",
    "            label=f'θ = median(y) = {median_value:.2f}')\n",
    "\n",
    "# Add a point at the minimum\n",
    "# plt.plot(median_value, min_mae, 'bo', markersize=8)\n",
    "\n",
    "# Customise the plot\n",
    "plt.title('MAE for bus lateness', fontsize=14)\n",
    "plt.xlabel('θ values', fontsize=12)\n",
    "plt.ylabel('Average loss', fontsize=12)\n",
    "plt.grid(True, alpha=0.3)\n",
    "\n",
    "# Add the legend\n",
    "plt.legend(loc='upper left', fontsize=12)\n",
    "\n",
    "# Set axis limits\n",
    "plt.xlim(-2, 8)\n",
    "plt.ylim(3.5, 7.5)\n",
    "\n",
    "# Show the plot\n",
    "plt.tight_layout()\n",
    "plt.show()"
   ],
   "outputs": [
    {
     "data": {
      "text/plain": [
       "<Figure size 600x400 with 1 Axes>"
      ],
      "image/png": "[encoded data removed]"
     },
     "metadata": {},
     "output_type": "display_data"
    }
   ],
   "execution_count": 25
  },
  {
   "cell_type": "markdown",
   "id": "eba92b86-4228-4801-bffc-500063d6d556",
   "metadata": {},
   "source": [
    "#### 4.2.2 Mean Squared Error\n",
    "1. Find the error, y - θ\n",
    "2. Take the square of the error, (y - θ)²\n",
    "This gives the loss function **l(θ, y) = (y - θ)²**."
   ]
  },
  {
   "cell_type": "code",
   "id": "3b18cff5-c420-4cf5-a3a3-44e9347700a1",
   "metadata": {
    "ExecuteTime": {
     "end_time": "2025-05-26T23:48:59.018971Z",
     "start_time": "2025-05-26T23:48:59.016974Z"
    }
   },
   "source": [
    "def mse_loss(theta, y_vals):\n",
    "    y_vals = np.array(y_vals)\n",
    "    return np.mean((y_vals - theta) ** 2)"
   ],
   "outputs": [],
   "execution_count": 26
  },
  {
   "cell_type": "code",
   "id": "9d994bec-ffbb-4c59-8e56-344279faa9be",
   "metadata": {
    "ExecuteTime": {
     "end_time": "2025-05-26T23:48:59.438212Z",
     "start_time": "2025-05-26T23:48:59.434817Z"
    }
   },
   "source": [
    "# Let's again try the mean, median, and mode as potential minimizers of the MSE:\n",
    "thetas = [0, 0.74, 1.92]\n",
    "mins_loss_dict = {theta: mse_loss(theta, mins_late_list) for theta in thetas}\n",
    "\n",
    "# List the loss values for different theta values\n",
    "print(\"   θ: Avg loss\")\n",
    "for theta, avg_loss in mins_loss_dict.items():\n",
    "    print(f\"{theta:>4}: {avg_loss}\")"
   ],
   "outputs": [
    {
     "name": "stdout",
     "output_type": "stream",
     "text": [
      "   θ: Avg loss\n",
      "   0: 43.74810514489385\n",
      "0.74: 41.454256516348984\n",
      "1.92: 40.062097892453124\n"
     ]
    }
   ],
   "execution_count": 27
  },
  {
   "cell_type": "markdown",
   "id": "35b7de07-4a3e-40f9-8748-d464682ab6f7",
   "metadata": {},
   "source": [
    "Now when we fit the constant model using MSE loss, we find that the mean (1.92) has a smaller loss than the mode and the median. \n",
    "\n",
    "Let's plot the MSE curve for different values of θ given our data. "
   ]
  },
  {
   "cell_type": "code",
   "id": "72623f4f-6e1e-468b-b7f6-d8250b5b70e8",
   "metadata": {
    "ExecuteTime": {
     "end_time": "2025-05-26T23:49:02.429398Z",
     "start_time": "2025-05-26T23:49:02.419108Z"
    }
   },
   "source": [
    "# Define a range of theta values to test\n",
    "theta_values = np.linspace(-2, 8, 100)\n",
    "\n",
    "# Calculate MSE for each theta value\n",
    "mse_values = []\n",
    "for theta in theta_values:\n",
    "    mse_values.append(mse_loss(theta, mins_late_list))\n",
    "\n",
    "# Find mean \n",
    "mean_value = np.mean(mins_late_list)\n",
    "min_mse = mse_loss(mean_value, mins_late_list)"
   ],
   "outputs": [],
   "execution_count": 28
  },
  {
   "cell_type": "code",
   "id": "730169f9-099d-4333-b55c-5884d787f881",
   "metadata": {
    "ExecuteTime": {
     "end_time": "2025-05-26T23:49:02.943046Z",
     "start_time": "2025-05-26T23:49:02.889591Z"
    }
   },
   "source": [
    "# Create the plot\n",
    "plt.figure(figsize=(6, 4))\n",
    "\n",
    "# Plot the mse curve\n",
    "plt.plot(theta_values, mse_values, 'b-', linewidth=2)\n",
    "\n",
    "# Add vertical dashed line in the median\n",
    "plt.axvline(x=mean_value, color='blue', linestyle='--', linewidth=2,\n",
    "            label=f'θ = mean(y) = {mean_value:.2f}')\n",
    "\n",
    "# Customise the plot\n",
    "plt.title(\"MSE for bus lateness\", fontsize=14)\n",
    "plt.xlabel(\"θ values\", fontsize=12)\n",
    "plt.ylabel(\"Average loss\", fontsize=12)\n",
    "plt.grid(True, alpha=0.3)\n",
    "\n",
    "# Add legend\n",
    "plt.legend(loc='upper left', fontsize=12)\n",
    "\n",
    "# Set axis limits\n",
    "plt.xlim(-2, 8)\n",
    "plt.ylim(35, 80)\n",
    "\n",
    "# Show the plot\n",
    "plt.tight_layout()\n",
    "plt.show()"
   ],
   "outputs": [
    {
     "data": {
      "text/plain": [
       "<Figure size 600x400 with 1 Axes>"
      ],
      "image/png": "[encoded data removed]"
     },
     "metadata": {},
     "output_type": "display_data"
    }
   ],
   "execution_count": 29
  },
  {
   "cell_type": "markdown",
   "id": "a77b5f5c-fb42-494b-a647-e38cc098d28f",
   "metadata": {},
   "source": [
    "Because of the nature of squaring errors, the MSE is more sensitive to unusually large data values than the MAE."
   ]
  },
  {
   "cell_type": "markdown",
   "id": "670b481e-9684-4528-b3a7-2c0e3426d937",
   "metadata": {},
   "source": [
    "For absolute loss, the best constant model is the **model**, but for squared error, it's the **mean**."
   ]
  },
  {
   "cell_type": "markdown",
   "id": "3a30da0c-6adf-4ed2-b7e0-4100d15f2413",
   "metadata": {},
   "source": [
    "### How do we choose whether to use the median, mean, or mode?\n",
    "What is the most appropriate loss function for our problem? To answer this question, __we look at the context of our problem__.\n",
    "\n",
    "Compared to the MAE, the MSE gives especially large losses when the bus is much later (or earlier) than expected. A bus rider who wants to understand the typical late times would use the MAE and the median (0.74 minutes late), but a rider who despises unexpected large late times might summarize the data using the MSE and the mean (1.92 minutes late)."
   ]
  },
  {
   "cell_type": "markdown",
   "id": "8615ca26-860b-43ea-850f-9e843a9ea411",
   "metadata": {},
   "source": [
    "If we want to refine the model even more, we can use a more specialized loss function. For example, suppose that when a bus arrives early, it waits at the stop until the scheduled time of departure; then we might want to assign an early arrival 0 loss. \n",
    "\n",
    "And if a really late bus is a larger aggravation than a moderately late one, we might choose an **asymmetric loss function** that gives a larger penalty to super-late arrivals. "
   ]
  },
  {
   "cell_type": "code",
   "execution_count": null,
   "id": "4c573481-0be7-4f9a-87ce-b63269f9fafa",
   "metadata": {},
   "outputs": [],
   "source": []
  }
 ],
 "metadata": {
  "kernelspec": {
   "display_name": "Python 3 (ipykernel)",
   "language": "python",
   "name": "python3"
  },
  "language_info": {
   "codemirror_mode": {
    "name": "ipython",
    "version": 3
   },
   "file_extension": ".py",
   "mimetype": "text/x-python",
   "name": "python",
   "nbconvert_exporter": "python",
   "pygments_lexer": "ipython3",
   "version": "3.9.6"
  }
 },
 "nbformat": 4,
 "nbformat_minor": 5
}
