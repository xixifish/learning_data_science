{
 "cells": [
  {
   "cell_type": "markdown",
   "id": "87313fb2-12f1-4839-a82f-8faf1a1f60d7",
   "metadata": {},
   "source": [
    "### Imitate election polling under different scenarios\n",
    "1. People surveyed didn't change their minds, didn't hide who they voted for, and were representative of those who voted on election day.\n",
    "2. People with a higher education were more likely to respond, which led to a bias for Clinton.\n",
    "\n",
    "**The goat is to understand the frequency that a poll incorrectly calls the election for Hillary Chinton when a sample is collected with absolutely no bias and when there is a small amount of non-response bias.**"
   ]
  },
  {
   "cell_type": "markdown",
   "id": "026b0f3e-79bb-4ffc-9446-0baab880d5e2",
   "metadata": {},
   "source": [
    "#### Setting up the urn model for the first scenario\n",
    "1. The urn has 6,165,478 marbles in it, one for each voter.\n",
    "2. We write on each marble the candidate that they voted for, draw 1,500 marbles from the urn(1,500 is a typical size for these polls), and tally the votes for Trump, Clinton, and any other candidate.\n",
    "\n",
    "*Since we care only about Trump's lead over Clinton, we can lump together all votes for other candidates.*\n",
    "\n",
    "**This way, each marble has one of three possible votes: Trump, Clinton, or Other.**"
   ]
  },
  {
   "cell_type": "code",
   "execution_count": 1,
   "id": "93f2c6b5-7600-4b8c-bb6b-5e2e6f544d62",
   "metadata": {},
   "outputs": [],
   "source": [
    "import numpy as np"
   ]
  },
  {
   "cell_type": "code",
   "execution_count": 2,
   "id": "78db9fdd-ecf0-4ea0-b7e4-7a0f30ffaa80",
   "metadata": {},
   "outputs": [
    {
     "data": {
      "text/plain": [
       "array([2970527, 2926135,  268814])"
      ]
     },
     "execution_count": 2,
     "metadata": {},
     "output_type": "execute_result"
    }
   ],
   "source": [
    "proportions = np.array([0.4818, 0.4746, 1 - (0.4818 + 0.4746)])\n",
    "n = 1_500\n",
    "N = 6_165_478\n",
    "votes = np.trunc(N * proportions).astype(int)\n",
    "votes"
   ]
  },
  {
   "cell_type": "markdown",
   "id": "acc9589e-e810-4ed9-baa0-c85503dbf6ab",
   "metadata": {},
   "source": [
    "The urn model has three types of marbles in it: __the multivariate hypergeometic__.\n",
    "\n",
    "In Python, the urn model with more than two types of marbles is implemented by the ```scipy.stats.multivariate_hypergeometric```."
   ]
  },
  {
   "cell_type": "code",
   "execution_count": 3,
   "id": "e078411e-fab7-45a3-8497-90f9c6683b13",
   "metadata": {},
   "outputs": [],
   "source": [
    "from scipy.stats import multivariate_hypergeom"
   ]
  },
  {
   "cell_type": "code",
   "execution_count": 4,
   "id": "610e60ae-548f-4b75-a989-fde2708d3bfe",
   "metadata": {},
   "outputs": [
    {
     "data": {
      "text/plain": [
       "array([721, 705,  74])"
      ]
     },
     "execution_count": 4,
     "metadata": {},
     "output_type": "execute_result"
    }
   ],
   "source": [
    "multivariate_hypergeom.rvs(votes, n)"
   ]
  },
  {
   "cell_type": "markdown",
   "id": "24a22ff9-9465-4cfc-962d-71046dcca220",
   "metadata": {},
   "source": [
    "(nT - nC) / n calculates Trump's lead for each sample. If the lead is positive, then the sample shows a win for Trump. \n",
    "\n",
    "We know the actual lead was 0.4818 - 0.4746 = 0.0072. To get a sense of the variation in the poll, we can simulate the chance process of drawing from the urn over and over and examine the values that we get in return. "
   ]
  },
  {
   "cell_type": "code",
   "execution_count": 5,
   "id": "80c5606a-05f4-4e95-b3bc-45c8f54677d7",
   "metadata": {},
   "outputs": [],
   "source": [
    "# Simulate 100,000 polls of 1,500 voters from the votes:\n",
    "def trump_advantage(votes, n):\n",
    "    sample_votes = multivariate_hypergeom.rvs(votes, n)\n",
    "    return (sample_votes[0] - sample_votes[1]) / n"
   ]
  },
  {
   "cell_type": "code",
   "execution_count": 6,
   "id": "41ed0cab-a2a9-45de-872f-0609d5767e6e",
   "metadata": {},
   "outputs": [],
   "source": [
    "simulations = [trump_advantage(votes, n) for _ in range(100_000)]"
   ]
  },
  {
   "cell_type": "code",
   "execution_count": 7,
   "id": "61ee75dd-f2b5-4e5d-8ae3-bd9686750913",
   "metadata": {},
   "outputs": [
    {
     "data": {
      "text/plain": [
       "np.float64(0.007351666666666669)"
      ]
     },
     "execution_count": 7,
     "metadata": {},
     "output_type": "execute_result"
    }
   ],
   "source": [
    "np.mean(simulations)"
   ]
  },
  {
   "cell_type": "code",
   "execution_count": 9,
   "id": "bbebebdd-b0be-4723-a984-e7780df3932e",
   "metadata": {},
   "outputs": [
    {
     "data": {
      "text/plain": [
       "np.float64(0.61064)"
      ]
     },
     "execution_count": 9,
     "metadata": {},
     "output_type": "execute_result"
    }
   ],
   "source": [
    "# In the 100,000 simulated polls, we find Trump a victor about 60% of the time:\n",
    "np.mean(np.array(simulations) > 0)"
   ]
  },
  {
   "cell_type": "markdown",
   "id": "d062cba5-7411-4ca3-adeb-dc789350b404",
   "metadata": {},
   "source": [
    "#### An Urn Model with Bias\n",
    "Specifically, we examine the impacts of 0.5% bias in favor of Clinton. Instead of 47.46% votes for Clinton, we have 47.96%, and we have 48.18 - 0.5 = 47.68% for Trump.  "
   ]
  },
  {
   "cell_type": "code",
   "execution_count": 10,
   "id": "15ef613d-08fe-49ff-81ed-b252e90bd955",
   "metadata": {},
   "outputs": [
    {
     "data": {
      "text/plain": [
       "array([0.4768, 0.4796, 0.0436])"
      ]
     },
     "execution_count": 10,
     "metadata": {},
     "output_type": "execute_result"
    }
   ],
   "source": [
    "# We adjust the proportions of marbles in the urn to reflect this bias:\n",
    "bias = 0.005\n",
    "proportions_bias = np.array([0.4818 - bias, 0.4746 + bias, 1 - (0.4818 + 0.4746)])\n",
    "proportions_bias"
   ]
  },
  {
   "cell_type": "code",
   "execution_count": 11,
   "id": "155f5a3d-59b0-4ca1-a812-e035527ce4bf",
   "metadata": {},
   "outputs": [
    {
     "data": {
      "text/plain": [
       "array([2939699, 2956963,  268814])"
      ]
     },
     "execution_count": 11,
     "metadata": {},
     "output_type": "execute_result"
    }
   ],
   "source": [
    "votes_bias = np.trunc(N * proportions_bias).astype(int)\n",
    "votes_bias"
   ]
  },
  {
   "cell_type": "code",
   "execution_count": 12,
   "id": "22480ea4-6089-4ef0-adb8-44eca1d2369a",
   "metadata": {},
   "outputs": [],
   "source": [
    "simulations_bias = [trump_advantage(votes_bias, n) for _ in range(100_000)]"
   ]
  },
  {
   "cell_type": "code",
   "execution_count": 14,
   "id": "2d2eddae-bf97-4348-ab84-a85a34f78bb4",
   "metadata": {},
   "outputs": [
    {
     "data": {
      "text/plain": [
       "np.float64(0.44956)"
      ]
     },
     "execution_count": 14,
     "metadata": {},
     "output_type": "execute_result"
    }
   ],
   "source": [
    "np.mean(np.array(simulations_bias) > 0)"
   ]
  },
  {
   "cell_type": "markdown",
   "id": "d7ebb840-a91e-4a2b-ba66-d741bc3319bf",
   "metadata": {},
   "source": [
    "#### Conducting Larger Polls \n",
    "Would increasing the sample size have helped?"
   ]
  },
  {
   "cell_type": "code",
   "execution_count": 16,
   "id": "a8c15b25-34a5-4dad-8861-4fa2208a0ae4",
   "metadata": {},
   "outputs": [],
   "source": [
    "# Let's try a sample size of 12,000:\n",
    "simulations_big = [trump_advantage(votes, 12_000) for _ in range(100_000)]\n",
    "simulations_bias_big = [trump_advantage(votes_bias, 12_000) for _ in range(100_000)]"
   ]
  },
  {
   "cell_type": "code",
   "execution_count": 17,
   "id": "69be2454-b3ea-4efb-9f28-e58b8ce83a9e",
   "metadata": {},
   "outputs": [
    {
     "data": {
      "text/plain": [
       "np.float64(0.79137)"
      ]
     },
     "execution_count": 17,
     "metadata": {},
     "output_type": "execute_result"
    }
   ],
   "source": [
    "np.mean(np.array(simulations_big) > 0)"
   ]
  },
  {
   "cell_type": "code",
   "execution_count": 18,
   "id": "7f69fab2-1065-444c-a5a8-59207b1404e4",
   "metadata": {},
   "outputs": [
    {
     "data": {
      "text/plain": [
       "np.float64(0.37765)"
      ]
     },
     "execution_count": 18,
     "metadata": {},
     "output_type": "execute_result"
    }
   ],
   "source": [
    "np.mean(np.array(simulations_bias_big) > 0)"
   ]
  },
  {
   "cell_type": "markdown",
   "id": "c1973e86-2b05-4d8f-a0b9-593f80c0d2a0",
   "metadata": {},
   "source": [
    "We haven't overcome the bias; we just have a more accurate picture of the biased situation. \n",
    "__A larger sample size reduces the sampling error, but unfortunately, if there is bias, then the predictions are close to the biased estimate.__"
   ]
  },
  {
   "cell_type": "code",
   "execution_count": null,
   "id": "ee1b0a40-2c9f-49b9-834c-16c9ab461dc3",
   "metadata": {},
   "outputs": [],
   "source": []
  }
 ],
 "metadata": {
  "kernelspec": {
   "display_name": "Python 3 (ipykernel)",
   "language": "python",
   "name": "python3"
  },
  "language_info": {
   "codemirror_mode": {
    "name": "ipython",
    "version": 3
   },
   "file_extension": ".py",
   "mimetype": "text/x-python",
   "name": "python",
   "nbconvert_exporter": "python",
   "pygments_lexer": "ipython3",
   "version": "3.9.6"
  }
 },
 "nbformat": 4,
 "nbformat_minor": 5
}
